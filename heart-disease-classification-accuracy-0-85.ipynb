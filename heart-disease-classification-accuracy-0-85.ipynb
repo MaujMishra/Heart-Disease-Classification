{
 "cells": [
  {
   "cell_type": "markdown",
   "id": "44360143",
   "metadata": {
    "papermill": {
     "duration": 0.068693,
     "end_time": "2022-01-15T11:44:46.237858",
     "exception": false,
     "start_time": "2022-01-15T11:44:46.169165",
     "status": "completed"
    },
    "tags": []
   },
   "source": [
    "# Heart Disease Classification"
   ]
  },
  {
   "cell_type": "code",
   "execution_count": 1,
   "id": "8d4c21e4",
   "metadata": {
    "execution": {
     "iopub.execute_input": "2022-01-15T11:44:46.373569Z",
     "iopub.status.busy": "2022-01-15T11:44:46.372376Z",
     "iopub.status.idle": "2022-01-15T11:44:48.164101Z",
     "shell.execute_reply": "2022-01-15T11:44:48.163342Z",
     "shell.execute_reply.started": "2022-01-15T11:43:53.210903Z"
    },
    "papermill": {
     "duration": 1.85907,
     "end_time": "2022-01-15T11:44:48.164249",
     "exception": false,
     "start_time": "2022-01-15T11:44:46.305179",
     "status": "completed"
    },
    "tags": []
   },
   "outputs": [],
   "source": [
    "import numpy as np\n",
    "import pandas as pd\n",
    "import matplotlib.pyplot as plt\n",
    "import seaborn as sns\n",
    "from imblearn.under_sampling import RandomUnderSampler\n",
    "from category_encoders import TargetEncoder\n",
    "from sklearn.linear_model import LogisticRegression\n",
    "from sklearn.model_selection import KFold\n",
    "from sklearn.model_selection import train_test_split\n",
    "from sklearn import metrics"
   ]
  },
  {
   "cell_type": "code",
   "execution_count": 2,
   "id": "422ba90c",
   "metadata": {
    "execution": {
     "iopub.execute_input": "2022-01-15T11:44:48.294141Z",
     "iopub.status.busy": "2022-01-15T11:44:48.293477Z",
     "iopub.status.idle": "2022-01-15T11:44:48.315929Z",
     "shell.execute_reply": "2022-01-15T11:44:48.316440Z",
     "shell.execute_reply.started": "2022-01-15T11:43:53.219439Z"
    },
    "papermill": {
     "duration": 0.089315,
     "end_time": "2022-01-15T11:44:48.316619",
     "exception": false,
     "start_time": "2022-01-15T11:44:48.227304",
     "status": "completed"
    },
    "tags": []
   },
   "outputs": [
    {
     "data": {
      "text/plain": [
       "(918, 12)"
      ]
     },
     "execution_count": 2,
     "metadata": {},
     "output_type": "execute_result"
    }
   ],
   "source": [
    "df = pd.read_csv(\"../input/heart-failure-prediction/heart.csv\")\n",
    "df.shape"
   ]
  },
  {
   "cell_type": "code",
   "execution_count": 3,
   "id": "744cc4dc",
   "metadata": {
    "execution": {
     "iopub.execute_input": "2022-01-15T11:44:48.450027Z",
     "iopub.status.busy": "2022-01-15T11:44:48.446078Z",
     "iopub.status.idle": "2022-01-15T11:44:48.468188Z",
     "shell.execute_reply": "2022-01-15T11:44:48.468781Z",
     "shell.execute_reply.started": "2022-01-15T11:43:53.247391Z"
    },
    "papermill": {
     "duration": 0.088327,
     "end_time": "2022-01-15T11:44:48.468944",
     "exception": false,
     "start_time": "2022-01-15T11:44:48.380617",
     "status": "completed"
    },
    "tags": []
   },
   "outputs": [
    {
     "data": {
      "text/html": [
       "<div>\n",
       "<style scoped>\n",
       "    .dataframe tbody tr th:only-of-type {\n",
       "        vertical-align: middle;\n",
       "    }\n",
       "\n",
       "    .dataframe tbody tr th {\n",
       "        vertical-align: top;\n",
       "    }\n",
       "\n",
       "    .dataframe thead th {\n",
       "        text-align: right;\n",
       "    }\n",
       "</style>\n",
       "<table border=\"1\" class=\"dataframe\">\n",
       "  <thead>\n",
       "    <tr style=\"text-align: right;\">\n",
       "      <th></th>\n",
       "      <th>Age</th>\n",
       "      <th>Sex</th>\n",
       "      <th>ChestPainType</th>\n",
       "      <th>RestingBP</th>\n",
       "      <th>Cholesterol</th>\n",
       "      <th>FastingBS</th>\n",
       "      <th>RestingECG</th>\n",
       "      <th>MaxHR</th>\n",
       "      <th>ExerciseAngina</th>\n",
       "      <th>Oldpeak</th>\n",
       "      <th>ST_Slope</th>\n",
       "      <th>HeartDisease</th>\n",
       "    </tr>\n",
       "  </thead>\n",
       "  <tbody>\n",
       "    <tr>\n",
       "      <th>0</th>\n",
       "      <td>40</td>\n",
       "      <td>M</td>\n",
       "      <td>ATA</td>\n",
       "      <td>140</td>\n",
       "      <td>289</td>\n",
       "      <td>0</td>\n",
       "      <td>Normal</td>\n",
       "      <td>172</td>\n",
       "      <td>N</td>\n",
       "      <td>0.0</td>\n",
       "      <td>Up</td>\n",
       "      <td>0</td>\n",
       "    </tr>\n",
       "    <tr>\n",
       "      <th>1</th>\n",
       "      <td>49</td>\n",
       "      <td>F</td>\n",
       "      <td>NAP</td>\n",
       "      <td>160</td>\n",
       "      <td>180</td>\n",
       "      <td>0</td>\n",
       "      <td>Normal</td>\n",
       "      <td>156</td>\n",
       "      <td>N</td>\n",
       "      <td>1.0</td>\n",
       "      <td>Flat</td>\n",
       "      <td>1</td>\n",
       "    </tr>\n",
       "    <tr>\n",
       "      <th>2</th>\n",
       "      <td>37</td>\n",
       "      <td>M</td>\n",
       "      <td>ATA</td>\n",
       "      <td>130</td>\n",
       "      <td>283</td>\n",
       "      <td>0</td>\n",
       "      <td>ST</td>\n",
       "      <td>98</td>\n",
       "      <td>N</td>\n",
       "      <td>0.0</td>\n",
       "      <td>Up</td>\n",
       "      <td>0</td>\n",
       "    </tr>\n",
       "    <tr>\n",
       "      <th>3</th>\n",
       "      <td>48</td>\n",
       "      <td>F</td>\n",
       "      <td>ASY</td>\n",
       "      <td>138</td>\n",
       "      <td>214</td>\n",
       "      <td>0</td>\n",
       "      <td>Normal</td>\n",
       "      <td>108</td>\n",
       "      <td>Y</td>\n",
       "      <td>1.5</td>\n",
       "      <td>Flat</td>\n",
       "      <td>1</td>\n",
       "    </tr>\n",
       "    <tr>\n",
       "      <th>4</th>\n",
       "      <td>54</td>\n",
       "      <td>M</td>\n",
       "      <td>NAP</td>\n",
       "      <td>150</td>\n",
       "      <td>195</td>\n",
       "      <td>0</td>\n",
       "      <td>Normal</td>\n",
       "      <td>122</td>\n",
       "      <td>N</td>\n",
       "      <td>0.0</td>\n",
       "      <td>Up</td>\n",
       "      <td>0</td>\n",
       "    </tr>\n",
       "    <tr>\n",
       "      <th>5</th>\n",
       "      <td>39</td>\n",
       "      <td>M</td>\n",
       "      <td>NAP</td>\n",
       "      <td>120</td>\n",
       "      <td>339</td>\n",
       "      <td>0</td>\n",
       "      <td>Normal</td>\n",
       "      <td>170</td>\n",
       "      <td>N</td>\n",
       "      <td>0.0</td>\n",
       "      <td>Up</td>\n",
       "      <td>0</td>\n",
       "    </tr>\n",
       "    <tr>\n",
       "      <th>6</th>\n",
       "      <td>45</td>\n",
       "      <td>F</td>\n",
       "      <td>ATA</td>\n",
       "      <td>130</td>\n",
       "      <td>237</td>\n",
       "      <td>0</td>\n",
       "      <td>Normal</td>\n",
       "      <td>170</td>\n",
       "      <td>N</td>\n",
       "      <td>0.0</td>\n",
       "      <td>Up</td>\n",
       "      <td>0</td>\n",
       "    </tr>\n",
       "    <tr>\n",
       "      <th>7</th>\n",
       "      <td>54</td>\n",
       "      <td>M</td>\n",
       "      <td>ATA</td>\n",
       "      <td>110</td>\n",
       "      <td>208</td>\n",
       "      <td>0</td>\n",
       "      <td>Normal</td>\n",
       "      <td>142</td>\n",
       "      <td>N</td>\n",
       "      <td>0.0</td>\n",
       "      <td>Up</td>\n",
       "      <td>0</td>\n",
       "    </tr>\n",
       "    <tr>\n",
       "      <th>8</th>\n",
       "      <td>37</td>\n",
       "      <td>M</td>\n",
       "      <td>ASY</td>\n",
       "      <td>140</td>\n",
       "      <td>207</td>\n",
       "      <td>0</td>\n",
       "      <td>Normal</td>\n",
       "      <td>130</td>\n",
       "      <td>Y</td>\n",
       "      <td>1.5</td>\n",
       "      <td>Flat</td>\n",
       "      <td>1</td>\n",
       "    </tr>\n",
       "    <tr>\n",
       "      <th>9</th>\n",
       "      <td>48</td>\n",
       "      <td>F</td>\n",
       "      <td>ATA</td>\n",
       "      <td>120</td>\n",
       "      <td>284</td>\n",
       "      <td>0</td>\n",
       "      <td>Normal</td>\n",
       "      <td>120</td>\n",
       "      <td>N</td>\n",
       "      <td>0.0</td>\n",
       "      <td>Up</td>\n",
       "      <td>0</td>\n",
       "    </tr>\n",
       "  </tbody>\n",
       "</table>\n",
       "</div>"
      ],
      "text/plain": [
       "   Age Sex ChestPainType  RestingBP  Cholesterol  FastingBS RestingECG  MaxHR  \\\n",
       "0   40   M           ATA        140          289          0     Normal    172   \n",
       "1   49   F           NAP        160          180          0     Normal    156   \n",
       "2   37   M           ATA        130          283          0         ST     98   \n",
       "3   48   F           ASY        138          214          0     Normal    108   \n",
       "4   54   M           NAP        150          195          0     Normal    122   \n",
       "5   39   M           NAP        120          339          0     Normal    170   \n",
       "6   45   F           ATA        130          237          0     Normal    170   \n",
       "7   54   M           ATA        110          208          0     Normal    142   \n",
       "8   37   M           ASY        140          207          0     Normal    130   \n",
       "9   48   F           ATA        120          284          0     Normal    120   \n",
       "\n",
       "  ExerciseAngina  Oldpeak ST_Slope  HeartDisease  \n",
       "0              N      0.0       Up             0  \n",
       "1              N      1.0     Flat             1  \n",
       "2              N      0.0       Up             0  \n",
       "3              Y      1.5     Flat             1  \n",
       "4              N      0.0       Up             0  \n",
       "5              N      0.0       Up             0  \n",
       "6              N      0.0       Up             0  \n",
       "7              N      0.0       Up             0  \n",
       "8              Y      1.5     Flat             1  \n",
       "9              N      0.0       Up             0  "
      ]
     },
     "execution_count": 3,
     "metadata": {},
     "output_type": "execute_result"
    }
   ],
   "source": [
    "df.head(10)"
   ]
  },
  {
   "cell_type": "code",
   "execution_count": 4,
   "id": "69344aaf",
   "metadata": {
    "execution": {
     "iopub.execute_input": "2022-01-15T11:44:48.598469Z",
     "iopub.status.busy": "2022-01-15T11:44:48.597738Z",
     "iopub.status.idle": "2022-01-15T11:44:48.604145Z",
     "shell.execute_reply": "2022-01-15T11:44:48.604698Z",
     "shell.execute_reply.started": "2022-01-15T11:43:53.270589Z"
    },
    "papermill": {
     "duration": 0.073308,
     "end_time": "2022-01-15T11:44:48.604868",
     "exception": false,
     "start_time": "2022-01-15T11:44:48.531560",
     "status": "completed"
    },
    "tags": []
   },
   "outputs": [
    {
     "data": {
      "text/plain": [
       "Age                 int64\n",
       "Sex                object\n",
       "ChestPainType      object\n",
       "RestingBP           int64\n",
       "Cholesterol         int64\n",
       "FastingBS           int64\n",
       "RestingECG         object\n",
       "MaxHR               int64\n",
       "ExerciseAngina     object\n",
       "Oldpeak           float64\n",
       "ST_Slope           object\n",
       "HeartDisease        int64\n",
       "dtype: object"
      ]
     },
     "execution_count": 4,
     "metadata": {},
     "output_type": "execute_result"
    }
   ],
   "source": [
    "df.dtypes"
   ]
  },
  {
   "cell_type": "code",
   "execution_count": 5,
   "id": "e7d5b8f8",
   "metadata": {
    "execution": {
     "iopub.execute_input": "2022-01-15T11:44:48.734367Z",
     "iopub.status.busy": "2022-01-15T11:44:48.733673Z",
     "iopub.status.idle": "2022-01-15T11:44:49.069042Z",
     "shell.execute_reply": "2022-01-15T11:44:49.068461Z",
     "shell.execute_reply.started": "2022-01-15T11:43:53.282402Z"
    },
    "papermill": {
     "duration": 0.401189,
     "end_time": "2022-01-15T11:44:49.069185",
     "exception": false,
     "start_time": "2022-01-15T11:44:48.667996",
     "status": "completed"
    },
    "tags": []
   },
   "outputs": [
    {
     "data": {
      "image/png": "[encoded data removed]",
      "text/plain": [
       "<Figure size 720x504 with 2 Axes>"
      ]
     },
     "metadata": {
      "needs_background": "light"
     },
     "output_type": "display_data"
    }
   ],
   "source": [
    "fig = plt.figure(figsize=(10, 7))\n",
    "sns.heatmap(df.corr())\n",
    "plt.show()"
   ]
  },
  {
   "cell_type": "markdown",
   "id": "0e2c3466",
   "metadata": {
    "papermill": {
     "duration": 0.063703,
     "end_time": "2022-01-15T11:44:49.197128",
     "exception": false,
     "start_time": "2022-01-15T11:44:49.133425",
     "status": "completed"
    },
    "tags": []
   },
   "source": [
    "* The features are not related to each other. No Multicollinearity!"
   ]
  },
  {
   "cell_type": "code",
   "execution_count": 6,
   "id": "095c1a9d",
   "metadata": {
    "execution": {
     "iopub.execute_input": "2022-01-15T11:44:49.331174Z",
     "iopub.status.busy": "2022-01-15T11:44:49.330183Z",
     "iopub.status.idle": "2022-01-15T11:44:49.339078Z",
     "shell.execute_reply": "2022-01-15T11:44:49.339544Z",
     "shell.execute_reply.started": "2022-01-15T11:43:53.585136Z"
    },
    "papermill": {
     "duration": 0.078439,
     "end_time": "2022-01-15T11:44:49.339729",
     "exception": false,
     "start_time": "2022-01-15T11:44:49.261290",
     "status": "completed"
    },
    "tags": []
   },
   "outputs": [
    {
     "data": {
      "text/plain": [
       "Age               0\n",
       "Sex               0\n",
       "ChestPainType     0\n",
       "RestingBP         0\n",
       "Cholesterol       0\n",
       "FastingBS         0\n",
       "RestingECG        0\n",
       "MaxHR             0\n",
       "ExerciseAngina    0\n",
       "Oldpeak           0\n",
       "ST_Slope          0\n",
       "HeartDisease      0\n",
       "dtype: int64"
      ]
     },
     "execution_count": 6,
     "metadata": {},
     "output_type": "execute_result"
    }
   ],
   "source": [
    "df.isnull().sum()"
   ]
  },
  {
   "cell_type": "markdown",
   "id": "7b8aa1d8",
   "metadata": {
    "papermill": {
     "duration": 0.064376,
     "end_time": "2022-01-15T11:44:49.470805",
     "exception": false,
     "start_time": "2022-01-15T11:44:49.406429",
     "status": "completed"
    },
    "tags": []
   },
   "source": [
    "* There are no missing values in the dataset!"
   ]
  },
  {
   "cell_type": "markdown",
   "id": "b6af0d70",
   "metadata": {
    "papermill": {
     "duration": 0.064471,
     "end_time": "2022-01-15T11:44:49.599890",
     "exception": false,
     "start_time": "2022-01-15T11:44:49.535419",
     "status": "completed"
    },
    "tags": []
   },
   "source": [
    "# Data Storytelling"
   ]
  },
  {
   "cell_type": "code",
   "execution_count": 7,
   "id": "a83bf24e",
   "metadata": {
    "execution": {
     "iopub.execute_input": "2022-01-15T11:44:49.732110Z",
     "iopub.status.busy": "2022-01-15T11:44:49.731196Z",
     "iopub.status.idle": "2022-01-15T11:44:49.767973Z",
     "shell.execute_reply": "2022-01-15T11:44:49.768476Z",
     "shell.execute_reply.started": "2022-01-15T11:43:53.597949Z"
    },
    "papermill": {
     "duration": 0.104673,
     "end_time": "2022-01-15T11:44:49.768656",
     "exception": false,
     "start_time": "2022-01-15T11:44:49.663983",
     "status": "completed"
    },
    "tags": []
   },
   "outputs": [
    {
     "data": {
      "text/html": [
       "<div>\n",
       "<style scoped>\n",
       "    .dataframe tbody tr th:only-of-type {\n",
       "        vertical-align: middle;\n",
       "    }\n",
       "\n",
       "    .dataframe tbody tr th {\n",
       "        vertical-align: top;\n",
       "    }\n",
       "\n",
       "    .dataframe thead th {\n",
       "        text-align: right;\n",
       "    }\n",
       "</style>\n",
       "<table border=\"1\" class=\"dataframe\">\n",
       "  <thead>\n",
       "    <tr style=\"text-align: right;\">\n",
       "      <th></th>\n",
       "      <th>Age</th>\n",
       "      <th>RestingBP</th>\n",
       "      <th>Cholesterol</th>\n",
       "      <th>FastingBS</th>\n",
       "      <th>MaxHR</th>\n",
       "      <th>Oldpeak</th>\n",
       "      <th>HeartDisease</th>\n",
       "    </tr>\n",
       "  </thead>\n",
       "  <tbody>\n",
       "    <tr>\n",
       "      <th>count</th>\n",
       "      <td>918.000000</td>\n",
       "      <td>918.000000</td>\n",
       "      <td>918.000000</td>\n",
       "      <td>918.000000</td>\n",
       "      <td>918.000000</td>\n",
       "      <td>918.000000</td>\n",
       "      <td>918.000000</td>\n",
       "    </tr>\n",
       "    <tr>\n",
       "      <th>mean</th>\n",
       "      <td>53.510893</td>\n",
       "      <td>132.396514</td>\n",
       "      <td>198.799564</td>\n",
       "      <td>0.233115</td>\n",
       "      <td>136.809368</td>\n",
       "      <td>0.887364</td>\n",
       "      <td>0.553377</td>\n",
       "    </tr>\n",
       "    <tr>\n",
       "      <th>std</th>\n",
       "      <td>9.432617</td>\n",
       "      <td>18.514154</td>\n",
       "      <td>109.384145</td>\n",
       "      <td>0.423046</td>\n",
       "      <td>25.460334</td>\n",
       "      <td>1.066570</td>\n",
       "      <td>0.497414</td>\n",
       "    </tr>\n",
       "    <tr>\n",
       "      <th>min</th>\n",
       "      <td>28.000000</td>\n",
       "      <td>0.000000</td>\n",
       "      <td>0.000000</td>\n",
       "      <td>0.000000</td>\n",
       "      <td>60.000000</td>\n",
       "      <td>-2.600000</td>\n",
       "      <td>0.000000</td>\n",
       "    </tr>\n",
       "    <tr>\n",
       "      <th>25%</th>\n",
       "      <td>47.000000</td>\n",
       "      <td>120.000000</td>\n",
       "      <td>173.250000</td>\n",
       "      <td>0.000000</td>\n",
       "      <td>120.000000</td>\n",
       "      <td>0.000000</td>\n",
       "      <td>0.000000</td>\n",
       "    </tr>\n",
       "    <tr>\n",
       "      <th>50%</th>\n",
       "      <td>54.000000</td>\n",
       "      <td>130.000000</td>\n",
       "      <td>223.000000</td>\n",
       "      <td>0.000000</td>\n",
       "      <td>138.000000</td>\n",
       "      <td>0.600000</td>\n",
       "      <td>1.000000</td>\n",
       "    </tr>\n",
       "    <tr>\n",
       "      <th>75%</th>\n",
       "      <td>60.000000</td>\n",
       "      <td>140.000000</td>\n",
       "      <td>267.000000</td>\n",
       "      <td>0.000000</td>\n",
       "      <td>156.000000</td>\n",
       "      <td>1.500000</td>\n",
       "      <td>1.000000</td>\n",
       "    </tr>\n",
       "    <tr>\n",
       "      <th>max</th>\n",
       "      <td>77.000000</td>\n",
       "      <td>200.000000</td>\n",
       "      <td>603.000000</td>\n",
       "      <td>1.000000</td>\n",
       "      <td>202.000000</td>\n",
       "      <td>6.200000</td>\n",
       "      <td>1.000000</td>\n",
       "    </tr>\n",
       "  </tbody>\n",
       "</table>\n",
       "</div>"
      ],
      "text/plain": [
       "              Age   RestingBP  Cholesterol   FastingBS       MaxHR  \\\n",
       "count  918.000000  918.000000   918.000000  918.000000  918.000000   \n",
       "mean    53.510893  132.396514   198.799564    0.233115  136.809368   \n",
       "std      9.432617   18.514154   109.384145    0.423046   25.460334   \n",
       "min     28.000000    0.000000     0.000000    0.000000   60.000000   \n",
       "25%     47.000000  120.000000   173.250000    0.000000  120.000000   \n",
       "50%     54.000000  130.000000   223.000000    0.000000  138.000000   \n",
       "75%     60.000000  140.000000   267.000000    0.000000  156.000000   \n",
       "max     77.000000  200.000000   603.000000    1.000000  202.000000   \n",
       "\n",
       "          Oldpeak  HeartDisease  \n",
       "count  918.000000    918.000000  \n",
       "mean     0.887364      0.553377  \n",
       "std      1.066570      0.497414  \n",
       "min     -2.600000      0.000000  \n",
       "25%      0.000000      0.000000  \n",
       "50%      0.600000      1.000000  \n",
       "75%      1.500000      1.000000  \n",
       "max      6.200000      1.000000  "
      ]
     },
     "execution_count": 7,
     "metadata": {},
     "output_type": "execute_result"
    }
   ],
   "source": [
    "df.describe()"
   ]
  },
  {
   "cell_type": "code",
   "execution_count": 8,
   "id": "8214f3c3",
   "metadata": {
    "execution": {
     "iopub.execute_input": "2022-01-15T11:44:49.906957Z",
     "iopub.status.busy": "2022-01-15T11:44:49.906001Z",
     "iopub.status.idle": "2022-01-15T11:44:49.910393Z",
     "shell.execute_reply": "2022-01-15T11:44:49.910869Z",
     "shell.execute_reply.started": "2022-01-15T11:43:53.631293Z"
    },
    "papermill": {
     "duration": 0.075647,
     "end_time": "2022-01-15T11:44:49.911039",
     "exception": false,
     "start_time": "2022-01-15T11:44:49.835392",
     "status": "completed"
    },
    "tags": []
   },
   "outputs": [],
   "source": [
    "def plot_violin(x_variable, y_variable):\n",
    "    fig = plt.figure(figsize=(10, 7))\n",
    "    sns.violinplot(x=x_variable, y=y_variable)\n",
    "    plt.show()\n",
    "    return 0"
   ]
  },
  {
   "cell_type": "markdown",
   "id": "22cffd06",
   "metadata": {
    "papermill": {
     "duration": 0.065311,
     "end_time": "2022-01-15T11:44:50.041590",
     "exception": false,
     "start_time": "2022-01-15T11:44:49.976279",
     "status": "completed"
    },
    "tags": []
   },
   "source": [
    "## Numerical Features"
   ]
  },
  {
   "cell_type": "markdown",
   "id": "82769768",
   "metadata": {
    "papermill": {
     "duration": 0.064422,
     "end_time": "2022-01-15T11:44:50.170944",
     "exception": false,
     "start_time": "2022-01-15T11:44:50.106522",
     "status": "completed"
    },
    "tags": []
   },
   "source": [
    "**Age**"
   ]
  },
  {
   "cell_type": "code",
   "execution_count": 9,
   "id": "9c6130e3",
   "metadata": {
    "execution": {
     "iopub.execute_input": "2022-01-15T11:44:50.304620Z",
     "iopub.status.busy": "2022-01-15T11:44:50.303658Z",
     "iopub.status.idle": "2022-01-15T11:44:50.531255Z",
     "shell.execute_reply": "2022-01-15T11:44:50.531748Z",
     "shell.execute_reply.started": "2022-01-15T11:43:53.638841Z"
    },
    "papermill": {
     "duration": 0.296202,
     "end_time": "2022-01-15T11:44:50.531915",
     "exception": false,
     "start_time": "2022-01-15T11:44:50.235713",
     "status": "completed"
    },
    "tags": []
   },
   "outputs": [
    {
     "data": {
      "image/png": "[encoded data removed]",
      "text/plain": [
       "<Figure size 720x504 with 1 Axes>"
      ]
     },
     "metadata": {
      "needs_background": "light"
     },
     "output_type": "display_data"
    },
    {
     "data": {
      "text/plain": [
       "0"
      ]
     },
     "execution_count": 9,
     "metadata": {},
     "output_type": "execute_result"
    }
   ],
   "source": [
    "plot_violin(df[\"HeartDisease\"], df[\"Age\"])"
   ]
  },
  {
   "cell_type": "code",
   "execution_count": 10,
   "id": "a4ee0c18",
   "metadata": {
    "execution": {
     "iopub.execute_input": "2022-01-15T11:44:50.673734Z",
     "iopub.status.busy": "2022-01-15T11:44:50.672822Z",
     "iopub.status.idle": "2022-01-15T11:44:50.676166Z",
     "shell.execute_reply": "2022-01-15T11:44:50.676674Z",
     "shell.execute_reply.started": "2022-01-15T11:43:53.838973Z"
    },
    "papermill": {
     "duration": 0.078406,
     "end_time": "2022-01-15T11:44:50.676848",
     "exception": false,
     "start_time": "2022-01-15T11:44:50.598442",
     "status": "completed"
    },
    "tags": []
   },
   "outputs": [
    {
     "data": {
      "text/plain": [
       "0    180\n",
       "1    111\n",
       "Name: HeartDisease, dtype: int64"
      ]
     },
     "execution_count": 10,
     "metadata": {},
     "output_type": "execute_result"
    }
   ],
   "source": [
    "df[df[\"Age\"] < 50][\"HeartDisease\"].value_counts()"
   ]
  },
  {
   "cell_type": "code",
   "execution_count": 11,
   "id": "72112845",
   "metadata": {
    "execution": {
     "iopub.execute_input": "2022-01-15T11:44:50.814388Z",
     "iopub.status.busy": "2022-01-15T11:44:50.813369Z",
     "iopub.status.idle": "2022-01-15T11:44:50.821438Z",
     "shell.execute_reply": "2022-01-15T11:44:50.822017Z",
     "shell.execute_reply.started": "2022-01-15T11:43:53.851742Z"
    },
    "papermill": {
     "duration": 0.078568,
     "end_time": "2022-01-15T11:44:50.822196",
     "exception": false,
     "start_time": "2022-01-15T11:44:50.743628",
     "status": "completed"
    },
    "tags": []
   },
   "outputs": [
    {
     "data": {
      "text/plain": [
       "1    383\n",
       "0    219\n",
       "Name: HeartDisease, dtype: int64"
      ]
     },
     "execution_count": 11,
     "metadata": {},
     "output_type": "execute_result"
    }
   ],
   "source": [
    "df[df[\"Age\"] > 50][\"HeartDisease\"].value_counts()"
   ]
  },
  {
   "cell_type": "markdown",
   "id": "d5428671",
   "metadata": {
    "papermill": {
     "duration": 0.067173,
     "end_time": "2022-01-15T11:44:50.956261",
     "exception": false,
     "start_time": "2022-01-15T11:44:50.889088",
     "status": "completed"
    },
    "tags": []
   },
   "source": [
    "* From the violin plot, it can be concluded that the patient with age less than 50 is more likely to not have heart disease.\n",
    "* And patient with age more than 50 is likely to have heart disease.\n",
    "* The probability that the patient will have heart disease given that he/she is younger than 50 years is 39%\n",
    "* The probability that the patient will have heart disease given that he/she is older than 50 years is 63%"
   ]
  },
  {
   "cell_type": "markdown",
   "id": "d04d9ecc",
   "metadata": {
    "papermill": {
     "duration": 0.06727,
     "end_time": "2022-01-15T11:44:51.091039",
     "exception": false,
     "start_time": "2022-01-15T11:44:51.023769",
     "status": "completed"
    },
    "tags": []
   },
   "source": [
    "**RestingBP**"
   ]
  },
  {
   "cell_type": "code",
   "execution_count": 12,
   "id": "5d611eca",
   "metadata": {
    "execution": {
     "iopub.execute_input": "2022-01-15T11:44:51.228678Z",
     "iopub.status.busy": "2022-01-15T11:44:51.227691Z",
     "iopub.status.idle": "2022-01-15T11:44:51.385506Z",
     "shell.execute_reply": "2022-01-15T11:44:51.386386Z",
     "shell.execute_reply.started": "2022-01-15T11:43:53.864572Z"
    },
    "papermill": {
     "duration": 0.228592,
     "end_time": "2022-01-15T11:44:51.386570",
     "exception": false,
     "start_time": "2022-01-15T11:44:51.157978",
     "status": "completed"
    },
    "tags": []
   },
   "outputs": [
    {
     "data": {
      "image/png": "[encoded data removed]",
      "text/plain": [
       "<Figure size 720x504 with 1 Axes>"
      ]
     },
     "metadata": {
      "needs_background": "light"
     },
     "output_type": "display_data"
    },
    {
     "data": {
      "text/plain": [
       "0"
      ]
     },
     "execution_count": 12,
     "metadata": {},
     "output_type": "execute_result"
    }
   ],
   "source": [
    "plot_violin(df[\"HeartDisease\"], df[\"RestingBP\"])"
   ]
  },
  {
   "cell_type": "code",
   "execution_count": 13,
   "id": "e47b5afa",
   "metadata": {
    "execution": {
     "iopub.execute_input": "2022-01-15T11:44:51.529011Z",
     "iopub.status.busy": "2022-01-15T11:44:51.528362Z",
     "iopub.status.idle": "2022-01-15T11:44:51.535302Z",
     "shell.execute_reply": "2022-01-15T11:44:51.535849Z",
     "shell.execute_reply.started": "2022-01-15T11:43:54.032249Z"
    },
    "papermill": {
     "duration": 0.080607,
     "end_time": "2022-01-15T11:44:51.536014",
     "exception": false,
     "start_time": "2022-01-15T11:44:51.455407",
     "status": "completed"
    },
    "tags": []
   },
   "outputs": [
    {
     "data": {
      "text/plain": [
       "1    150\n",
       "0     70\n",
       "Name: HeartDisease, dtype: int64"
      ]
     },
     "execution_count": 13,
     "metadata": {},
     "output_type": "execute_result"
    }
   ],
   "source": [
    "df[df[\"RestingBP\"] > 140][\"HeartDisease\"].value_counts()"
   ]
  },
  {
   "cell_type": "markdown",
   "id": "7528aae9",
   "metadata": {
    "papermill": {
     "duration": 0.068907,
     "end_time": "2022-01-15T11:44:51.673766",
     "exception": false,
     "start_time": "2022-01-15T11:44:51.604859",
     "status": "completed"
    },
    "tags": []
   },
   "source": [
    "* RestingBP is the blood pressure of a patient when at rest.\n",
    "* From the plot, it can be concluded that this BP is of type Systolic Blood Pressure.\n",
    "* The Normal range is between 120 - 130 mm Hg.\n",
    "* The patient have high chance of having heart disease when the RestingBP increases above 140 mm Hg.\n",
    "* In the dataset, the probability of a person will have heart disease given that his/her RestingBP is above 140 mm Hg is 68%."
   ]
  },
  {
   "cell_type": "markdown",
   "id": "a38177f8",
   "metadata": {
    "papermill": {
     "duration": 0.069548,
     "end_time": "2022-01-15T11:44:51.812372",
     "exception": false,
     "start_time": "2022-01-15T11:44:51.742824",
     "status": "completed"
    },
    "tags": []
   },
   "source": [
    "**Cholesterol**"
   ]
  },
  {
   "cell_type": "code",
   "execution_count": 14,
   "id": "0e362b95",
   "metadata": {
    "execution": {
     "iopub.execute_input": "2022-01-15T11:44:51.959165Z",
     "iopub.status.busy": "2022-01-15T11:44:51.958127Z",
     "iopub.status.idle": "2022-01-15T11:44:52.182045Z",
     "shell.execute_reply": "2022-01-15T11:44:52.182539Z",
     "shell.execute_reply.started": "2022-01-15T11:43:54.046983Z"
    },
    "papermill": {
     "duration": 0.301094,
     "end_time": "2022-01-15T11:44:52.182737",
     "exception": false,
     "start_time": "2022-01-15T11:44:51.881643",
     "status": "completed"
    },
    "tags": []
   },
   "outputs": [
    {
     "data": {
      "image/png": "[encoded data removed]",
      "text/plain": [
       "<Figure size 720x504 with 1 Axes>"
      ]
     },
     "metadata": {
      "needs_background": "light"
     },
     "output_type": "display_data"
    },
    {
     "data": {
      "text/plain": [
       "0"
      ]
     },
     "execution_count": 14,
     "metadata": {},
     "output_type": "execute_result"
    }
   ],
   "source": [
    "plot_violin(df[\"HeartDisease\"], df[\"Cholesterol\"])"
   ]
  },
  {
   "cell_type": "code",
   "execution_count": 15,
   "id": "b24a55f1",
   "metadata": {
    "execution": {
     "iopub.execute_input": "2022-01-15T11:44:52.334687Z",
     "iopub.status.busy": "2022-01-15T11:44:52.333765Z",
     "iopub.status.idle": "2022-01-15T11:44:52.337600Z",
     "shell.execute_reply": "2022-01-15T11:44:52.336927Z",
     "shell.execute_reply.started": "2022-01-15T11:43:54.222132Z"
    },
    "papermill": {
     "duration": 0.083862,
     "end_time": "2022-01-15T11:44:52.337755",
     "exception": false,
     "start_time": "2022-01-15T11:44:52.253893",
     "status": "completed"
    },
    "tags": []
   },
   "outputs": [
    {
     "data": {
      "text/plain": [
       "1    242\n",
       "0    229\n",
       "Name: HeartDisease, dtype: int64"
      ]
     },
     "execution_count": 15,
     "metadata": {},
     "output_type": "execute_result"
    }
   ],
   "source": [
    "df[df[\"Cholesterol\"] > 220][\"HeartDisease\"].value_counts()"
   ]
  },
  {
   "cell_type": "markdown",
   "id": "a61a6e48",
   "metadata": {
    "papermill": {
     "duration": 0.073807,
     "end_time": "2022-01-15T11:44:52.483418",
     "exception": false,
     "start_time": "2022-01-15T11:44:52.409611",
     "status": "completed"
    },
    "tags": []
   },
   "source": [
    "* Cholesterol is found is cells of human body. It helps produce VitaminD and Hormones.\n",
    "* Excess amount of Cholesterol can cause Heart Disease.\n",
    "* The normal range of cholesterol is below 200 mg/dL.\n",
    "* The cholesterol range between 200 - 239 mg/dl is considered borderline high.\n",
    "* Cholesterol level above 240 mg/dl is considered high.\n",
    "* The patient will have heart disease given that the patient has cholestrol above 220 mg/dl is 51%.\n",
    "* There are patients in the dataset, who despite having low cholesterol have heart disease. It can be because there are other features also which affect the patients heart condition.\n",
    "* This feature will not be used, Because of the last two points."
   ]
  },
  {
   "cell_type": "markdown",
   "id": "4ece2d83",
   "metadata": {
    "papermill": {
     "duration": 0.071308,
     "end_time": "2022-01-15T11:44:52.627079",
     "exception": false,
     "start_time": "2022-01-15T11:44:52.555771",
     "status": "completed"
    },
    "tags": []
   },
   "source": [
    "**MaxHR**"
   ]
  },
  {
   "cell_type": "code",
   "execution_count": 16,
   "id": "9687c980",
   "metadata": {
    "execution": {
     "iopub.execute_input": "2022-01-15T11:44:52.772873Z",
     "iopub.status.busy": "2022-01-15T11:44:52.772125Z",
     "iopub.status.idle": "2022-01-15T11:44:52.777914Z",
     "shell.execute_reply": "2022-01-15T11:44:52.778428Z",
     "shell.execute_reply.started": "2022-01-15T11:43:54.232428Z"
    },
    "papermill": {
     "duration": 0.080594,
     "end_time": "2022-01-15T11:44:52.778600",
     "exception": false,
     "start_time": "2022-01-15T11:44:52.698006",
     "status": "completed"
    },
    "tags": []
   },
   "outputs": [],
   "source": [
    "def apprx_maxHR(age):\n",
    "    return (220 - age)\n",
    "\n",
    "maxHR_apprx = df[\"Age\"].apply(apprx_maxHR)\n",
    "\n",
    "df[\"MaxHR_limit\"] = maxHR_apprx - df[\"MaxHR\"]"
   ]
  },
  {
   "cell_type": "code",
   "execution_count": 17,
   "id": "e4b468f0",
   "metadata": {
    "execution": {
     "iopub.execute_input": "2022-01-15T11:44:52.930965Z",
     "iopub.status.busy": "2022-01-15T11:44:52.930299Z",
     "iopub.status.idle": "2022-01-15T11:44:53.278530Z",
     "shell.execute_reply": "2022-01-15T11:44:53.279090Z",
     "shell.execute_reply.started": "2022-01-15T11:43:54.246759Z"
    },
    "papermill": {
     "duration": 0.429164,
     "end_time": "2022-01-15T11:44:53.279265",
     "exception": false,
     "start_time": "2022-01-15T11:44:52.850101",
     "status": "completed"
    },
    "tags": []
   },
   "outputs": [
    {
     "data": {
      "image/png": "[encoded data removed]",
      "text/plain": [
       "<Figure size 720x504 with 1 Axes>"
      ]
     },
     "metadata": {
      "needs_background": "light"
     },
     "output_type": "display_data"
    },
    {
     "data": {
      "text/plain": [
       "0"
      ]
     },
     "execution_count": 17,
     "metadata": {},
     "output_type": "execute_result"
    }
   ],
   "source": [
    "plot_violin(df[\"HeartDisease\"], df[\"MaxHR_limit\"])"
   ]
  },
  {
   "cell_type": "code",
   "execution_count": 18,
   "id": "1c65491b",
   "metadata": {
    "execution": {
     "iopub.execute_input": "2022-01-15T11:44:53.429642Z",
     "iopub.status.busy": "2022-01-15T11:44:53.428948Z",
     "iopub.status.idle": "2022-01-15T11:44:53.436223Z",
     "shell.execute_reply": "2022-01-15T11:44:53.436724Z",
     "shell.execute_reply.started": "2022-01-15T11:43:54.424055Z"
    },
    "papermill": {
     "duration": 0.084689,
     "end_time": "2022-01-15T11:44:53.436891",
     "exception": false,
     "start_time": "2022-01-15T11:44:53.352202",
     "status": "completed"
    },
    "tags": []
   },
   "outputs": [
    {
     "data": {
      "text/plain": [
       "1    475\n",
       "0    339\n",
       "Name: HeartDisease, dtype: int64"
      ]
     },
     "execution_count": 18,
     "metadata": {},
     "output_type": "execute_result"
    }
   ],
   "source": [
    "df[df[\"MaxHR_limit\"] > 0][\"HeartDisease\"].value_counts()"
   ]
  },
  {
   "cell_type": "code",
   "execution_count": 19,
   "id": "8428142e",
   "metadata": {
    "execution": {
     "iopub.execute_input": "2022-01-15T11:44:53.591517Z",
     "iopub.status.busy": "2022-01-15T11:44:53.590652Z",
     "iopub.status.idle": "2022-01-15T11:44:53.593899Z",
     "shell.execute_reply": "2022-01-15T11:44:53.594405Z",
     "shell.execute_reply.started": "2022-01-15T11:43:54.437477Z"
    },
    "papermill": {
     "duration": 0.08481,
     "end_time": "2022-01-15T11:44:53.594574",
     "exception": false,
     "start_time": "2022-01-15T11:44:53.509764",
     "status": "completed"
    },
    "tags": []
   },
   "outputs": [
    {
     "data": {
      "text/plain": [
       "0    57\n",
       "1    30\n",
       "Name: HeartDisease, dtype: int64"
      ]
     },
     "execution_count": 19,
     "metadata": {},
     "output_type": "execute_result"
    }
   ],
   "source": [
    "df[df[\"MaxHR_limit\"] < 0][\"HeartDisease\"].value_counts()"
   ]
  },
  {
   "cell_type": "markdown",
   "id": "bb226894",
   "metadata": {
    "papermill": {
     "duration": 0.073302,
     "end_time": "2022-01-15T11:44:53.740874",
     "exception": false,
     "start_time": "2022-01-15T11:44:53.667572",
     "status": "completed"
    },
    "tags": []
   },
   "source": [
    "* MaxHR (Maximum Heart Rate) is the heart rate achieved during exercise.\n",
    "* The Approx Maximum Heart Rate can be calculated by the expression = 220 - age_of_patient.\n",
    "* It is recommended to keep the heart rate below the Approx Maximum Heart Rate to avoid heart problems.\n",
    "* In the above cells, I created a new feature 'MaxHR_limit', which is difference between Approx MaxHR and Obeserved MaxHR\n",
    "* If the output is below zero, then it means the patient's Obeserved MaxHR is greater than Approx MaxHR, This can cause heart problems.\n",
    "* If the output is greater than zero, then it means the patient's Obeserved MaxHR is less than Approx MaxHR.\n",
    "* In the dataset, there are very few patients with less than zero 'MaxHR_limit' value.\n",
    "* The observations having 'MaxHR_limit' greater than zero have patients with Heart Disease and No Heart Disease.\n",
    "* This feature will not be used, because of the last two points"
   ]
  },
  {
   "cell_type": "markdown",
   "id": "af60a027",
   "metadata": {
    "papermill": {
     "duration": 0.073921,
     "end_time": "2022-01-15T11:44:53.888398",
     "exception": false,
     "start_time": "2022-01-15T11:44:53.814477",
     "status": "completed"
    },
    "tags": []
   },
   "source": [
    "**Oldpeak**"
   ]
  },
  {
   "cell_type": "code",
   "execution_count": 20,
   "id": "e07aaefc",
   "metadata": {
    "execution": {
     "iopub.execute_input": "2022-01-15T11:44:54.041833Z",
     "iopub.status.busy": "2022-01-15T11:44:54.040764Z",
     "iopub.status.idle": "2022-01-15T11:44:54.240942Z",
     "shell.execute_reply": "2022-01-15T11:44:54.241440Z",
     "shell.execute_reply.started": "2022-01-15T11:43:54.454886Z"
    },
    "papermill": {
     "duration": 0.278421,
     "end_time": "2022-01-15T11:44:54.241621",
     "exception": false,
     "start_time": "2022-01-15T11:44:53.963200",
     "status": "completed"
    },
    "tags": []
   },
   "outputs": [
    {
     "data": {
      "image/png": "[encoded data removed]",
      "text/plain": [
       "<Figure size 720x504 with 1 Axes>"
      ]
     },
     "metadata": {
      "needs_background": "light"
     },
     "output_type": "display_data"
    },
    {
     "data": {
      "text/plain": [
       "0"
      ]
     },
     "execution_count": 20,
     "metadata": {},
     "output_type": "execute_result"
    }
   ],
   "source": [
    "plot_violin(df[\"HeartDisease\"], df[\"Oldpeak\"])"
   ]
  },
  {
   "cell_type": "code",
   "execution_count": 21,
   "id": "cf25290c",
   "metadata": {
    "execution": {
     "iopub.execute_input": "2022-01-15T11:44:54.395778Z",
     "iopub.status.busy": "2022-01-15T11:44:54.395083Z",
     "iopub.status.idle": "2022-01-15T11:44:54.403267Z",
     "shell.execute_reply": "2022-01-15T11:44:54.403793Z",
     "shell.execute_reply.started": "2022-01-15T11:43:54.636442Z"
    },
    "papermill": {
     "duration": 0.087058,
     "end_time": "2022-01-15T11:44:54.403989",
     "exception": false,
     "start_time": "2022-01-15T11:44:54.316931",
     "status": "completed"
    },
    "tags": []
   },
   "outputs": [
    {
     "data": {
      "text/plain": [
       "0    290\n",
       "1    138\n",
       "Name: HeartDisease, dtype: int64"
      ]
     },
     "execution_count": 21,
     "metadata": {},
     "output_type": "execute_result"
    }
   ],
   "source": [
    "df[(df[\"Oldpeak\"] < 0.5) & (df[\"Oldpeak\"] > -0.5)][\"HeartDisease\"].value_counts()"
   ]
  },
  {
   "cell_type": "code",
   "execution_count": 22,
   "id": "90471985",
   "metadata": {
    "execution": {
     "iopub.execute_input": "2022-01-15T11:44:54.559281Z",
     "iopub.status.busy": "2022-01-15T11:44:54.558633Z",
     "iopub.status.idle": "2022-01-15T11:44:54.566257Z",
     "shell.execute_reply": "2022-01-15T11:44:54.566794Z",
     "shell.execute_reply.started": "2022-01-15T11:43:54.646754Z"
    },
    "papermill": {
     "duration": 0.086513,
     "end_time": "2022-01-15T11:44:54.566975",
     "exception": false,
     "start_time": "2022-01-15T11:44:54.480462",
     "status": "completed"
    },
    "tags": []
   },
   "outputs": [
    {
     "data": {
      "text/plain": [
       "1    357\n",
       "0    112\n",
       "Name: HeartDisease, dtype: int64"
      ]
     },
     "execution_count": 22,
     "metadata": {},
     "output_type": "execute_result"
    }
   ],
   "source": [
    "df[(df[\"Oldpeak\"] > 0.5) | (df[\"Oldpeak\"] < -0.5)][\"HeartDisease\"].value_counts()"
   ]
  },
  {
   "cell_type": "markdown",
   "id": "897de9ef",
   "metadata": {
    "papermill": {
     "duration": 0.075911,
     "end_time": "2022-01-15T11:44:54.719905",
     "exception": false,
     "start_time": "2022-01-15T11:44:54.643994",
     "status": "completed"
    },
    "tags": []
   },
   "source": [
    "* From the plot it can be concluded, that the patient having neat zero OldPeak will have less chance of a heart disease.\n",
    "* And the patient having OldPeak not near zero will have more chance of a heart disease.\n",
    "* The probability that the patient will have heart disease given that his/her Oldpeak value is in the range (0.5, -0.5) is 33%.\n",
    "* The probability that the patient will have heart disease given that his/her Oldpeak value is not in range (0.5, -0.5) is 76%."
   ]
  },
  {
   "cell_type": "markdown",
   "id": "b3872ed0",
   "metadata": {
    "papermill": {
     "duration": 0.076881,
     "end_time": "2022-01-15T11:44:54.872359",
     "exception": false,
     "start_time": "2022-01-15T11:44:54.795478",
     "status": "completed"
    },
    "tags": []
   },
   "source": [
    "## Categorical Features"
   ]
  },
  {
   "cell_type": "code",
   "execution_count": 23,
   "id": "51a802f9",
   "metadata": {
    "execution": {
     "iopub.execute_input": "2022-01-15T11:44:55.028418Z",
     "iopub.status.busy": "2022-01-15T11:44:55.027754Z",
     "iopub.status.idle": "2022-01-15T11:44:55.032815Z",
     "shell.execute_reply": "2022-01-15T11:44:55.033312Z",
     "shell.execute_reply.started": "2022-01-15T11:43:54.666968Z"
    },
    "papermill": {
     "duration": 0.085561,
     "end_time": "2022-01-15T11:44:55.033507",
     "exception": false,
     "start_time": "2022-01-15T11:44:54.947946",
     "status": "completed"
    },
    "tags": []
   },
   "outputs": [],
   "source": [
    "def fill_wedge(value):\n",
    "    format_value = round(value, 2)\n",
    "    return str(format_value) + \"%\"\n",
    "\n",
    "\n",
    "def plot_pie(data, labels):\n",
    "    fig = plt.figure(figsize=(10, 7))\n",
    "    plt.pie(x=data, labels=labels, autopct=fill_wedge)\n",
    "    plt.show()\n",
    "    return"
   ]
  },
  {
   "cell_type": "markdown",
   "id": "a6571bd7",
   "metadata": {
    "papermill": {
     "duration": 0.07529,
     "end_time": "2022-01-15T11:44:55.185076",
     "exception": false,
     "start_time": "2022-01-15T11:44:55.109786",
     "status": "completed"
    },
    "tags": []
   },
   "source": [
    "**Sex**"
   ]
  },
  {
   "cell_type": "code",
   "execution_count": 24,
   "id": "3a4b7b4a",
   "metadata": {
    "execution": {
     "iopub.execute_input": "2022-01-15T11:44:55.339530Z",
     "iopub.status.busy": "2022-01-15T11:44:55.338875Z",
     "iopub.status.idle": "2022-01-15T11:44:55.346097Z",
     "shell.execute_reply": "2022-01-15T11:44:55.346679Z",
     "shell.execute_reply.started": "2022-01-15T11:43:54.675037Z"
    },
    "papermill": {
     "duration": 0.08607,
     "end_time": "2022-01-15T11:44:55.346847",
     "exception": false,
     "start_time": "2022-01-15T11:44:55.260777",
     "status": "completed"
    },
    "tags": []
   },
   "outputs": [
    {
     "data": {
      "text/plain": [
       "M    725\n",
       "F    193\n",
       "Name: Sex, dtype: int64"
      ]
     },
     "execution_count": 24,
     "metadata": {},
     "output_type": "execute_result"
    }
   ],
   "source": [
    "df[\"Sex\"].value_counts()"
   ]
  },
  {
   "cell_type": "code",
   "execution_count": 25,
   "id": "f23187c9",
   "metadata": {
    "execution": {
     "iopub.execute_input": "2022-01-15T11:44:55.502428Z",
     "iopub.status.busy": "2022-01-15T11:44:55.501765Z",
     "iopub.status.idle": "2022-01-15T11:44:55.614696Z",
     "shell.execute_reply": "2022-01-15T11:44:55.615157Z",
     "shell.execute_reply.started": "2022-01-15T11:43:54.689784Z"
    },
    "papermill": {
     "duration": 0.192183,
     "end_time": "2022-01-15T11:44:55.615351",
     "exception": false,
     "start_time": "2022-01-15T11:44:55.423168",
     "status": "completed"
    },
    "tags": []
   },
   "outputs": [
    {
     "data": {
      "image/png": "[encoded data removed]",
      "text/plain": [
       "<Figure size 720x504 with 1 Axes>"
      ]
     },
     "metadata": {},
     "output_type": "display_data"
    }
   ],
   "source": [
    "data = [df[df[\"Sex\"] == \"M\"].shape[0], df[df[\"Sex\"] == \"F\"].shape[0]]\n",
    "labels = [\"Male\", \"Female\"]\n",
    "plot_pie(data, labels)"
   ]
  },
  {
   "cell_type": "markdown",
   "id": "7cb32109",
   "metadata": {
    "papermill": {
     "duration": 0.07655,
     "end_time": "2022-01-15T11:44:55.769523",
     "exception": false,
     "start_time": "2022-01-15T11:44:55.692973",
     "status": "completed"
    },
    "tags": []
   },
   "source": [
    "* Sex tells the gender of the patient.\n",
    "* This feature will not be used, because there is a severe imbalance of classes.\n",
    "* There are 725 patients of sex male, and 193 patients of sex female."
   ]
  },
  {
   "cell_type": "markdown",
   "id": "dce68726",
   "metadata": {
    "papermill": {
     "duration": 0.097336,
     "end_time": "2022-01-15T11:44:55.943459",
     "exception": false,
     "start_time": "2022-01-15T11:44:55.846123",
     "status": "completed"
    },
    "tags": []
   },
   "source": [
    "**ChestPainType**"
   ]
  },
  {
   "cell_type": "code",
   "execution_count": 26,
   "id": "8dc39d1e",
   "metadata": {
    "execution": {
     "iopub.execute_input": "2022-01-15T11:44:56.110035Z",
     "iopub.status.busy": "2022-01-15T11:44:56.109058Z",
     "iopub.status.idle": "2022-01-15T11:44:56.116026Z",
     "shell.execute_reply": "2022-01-15T11:44:56.116638Z",
     "shell.execute_reply.started": "2022-01-15T11:43:54.789013Z"
    },
    "papermill": {
     "duration": 0.086577,
     "end_time": "2022-01-15T11:44:56.116806",
     "exception": false,
     "start_time": "2022-01-15T11:44:56.030229",
     "status": "completed"
    },
    "tags": []
   },
   "outputs": [
    {
     "data": {
      "text/plain": [
       "ASY    496\n",
       "NAP    203\n",
       "ATA    173\n",
       "TA      46\n",
       "Name: ChestPainType, dtype: int64"
      ]
     },
     "execution_count": 26,
     "metadata": {},
     "output_type": "execute_result"
    }
   ],
   "source": [
    "df[\"ChestPainType\"].value_counts()"
   ]
  },
  {
   "cell_type": "code",
   "execution_count": 27,
   "id": "c05fe484",
   "metadata": {
    "execution": {
     "iopub.execute_input": "2022-01-15T11:44:56.278840Z",
     "iopub.status.busy": "2022-01-15T11:44:56.277804Z",
     "iopub.status.idle": "2022-01-15T11:44:56.381763Z",
     "shell.execute_reply": "2022-01-15T11:44:56.382285Z",
     "shell.execute_reply.started": "2022-01-15T11:43:54.802372Z"
    },
    "papermill": {
     "duration": 0.189488,
     "end_time": "2022-01-15T11:44:56.382488",
     "exception": false,
     "start_time": "2022-01-15T11:44:56.193000",
     "status": "completed"
    },
    "tags": []
   },
   "outputs": [
    {
     "data": {
      "image/png": "[encoded data removed]",
      "text/plain": [
       "<Figure size 720x504 with 1 Axes>"
      ]
     },
     "metadata": {},
     "output_type": "display_data"
    }
   ],
   "source": [
    "# Pie plot of patients with heart disease.\n",
    "cpt1 = df[df[\"HeartDisease\"] == 1][\"ChestPainType\"]\n",
    "asy1 = cpt1[cpt1 == \"ASY\"].shape[0]\n",
    "nap1 = cpt1[cpt1 == \"NAP\"].shape[0]\n",
    "ata1 = cpt1[cpt1 == \"ATA\"].shape[0]\n",
    "ta1 = cpt1[cpt1 == \"TA\"].shape[0]\n",
    "\n",
    "data_cpt1 = [asy1, nap1, ata1, ta1]\n",
    "labels_cpt = [\"ASY\", \"NAP\", \"ATA\", \"TA\"]\n",
    "\n",
    "plot_pie(data_cpt1, labels_cpt)"
   ]
  },
  {
   "cell_type": "code",
   "execution_count": 28,
   "id": "b0bd5c40",
   "metadata": {
    "execution": {
     "iopub.execute_input": "2022-01-15T11:44:56.551002Z",
     "iopub.status.busy": "2022-01-15T11:44:56.549987Z",
     "iopub.status.idle": "2022-01-15T11:44:56.644264Z",
     "shell.execute_reply": "2022-01-15T11:44:56.644866Z",
     "shell.execute_reply.started": "2022-01-15T11:43:54.974688Z"
    },
    "papermill": {
     "duration": 0.181724,
     "end_time": "2022-01-15T11:44:56.645058",
     "exception": false,
     "start_time": "2022-01-15T11:44:56.463334",
     "status": "completed"
    },
    "tags": []
   },
   "outputs": [
    {
     "data": {
      "image/png": "[encoded data removed]",
      "text/plain": [
       "<Figure size 720x504 with 1 Axes>"
      ]
     },
     "metadata": {},
     "output_type": "display_data"
    }
   ],
   "source": [
    "# Pie plot of patients without heart disease.\n",
    "cpt0 = df[df[\"HeartDisease\"] == 0][\"ChestPainType\"]\n",
    "asy0 = cpt0[cpt0 == \"ASY\"].shape[0]\n",
    "nap0 = cpt0[cpt0 == \"NAP\"].shape[0]\n",
    "ata0 = cpt0[cpt0 == \"ATA\"].shape[0]\n",
    "ta0 = cpt0[cpt0 == \"TA\"].shape[0]\n",
    "\n",
    "data_cpt0 = [asy0, nap0, ata0, ta0]\n",
    "plot_pie(data_cpt0, labels_cpt)"
   ]
  },
  {
   "cell_type": "markdown",
   "id": "1c24b7cc",
   "metadata": {
    "papermill": {
     "duration": 0.07827,
     "end_time": "2022-01-15T11:44:56.802972",
     "exception": false,
     "start_time": "2022-01-15T11:44:56.724702",
     "status": "completed"
    },
    "tags": []
   },
   "source": [
    "* ChestPainType tells the type of chest pain, it has  4 types given in the dataset.\n",
    "* TA(Typical Angina), ATA(Atypical Angina), NAP(Non-Anginal Pain), ASY(Asymptomatic) in increasing order of serverity.\n",
    "* The probability that the patient's chest pain type is ASY given that patient have heart disease is 77%.\n",
    "* The probability that the patient's chest pain type is NAP, ATA given that patient do not have heart disease is 32%, 36% respectively."
   ]
  },
  {
   "cell_type": "markdown",
   "id": "95c9d86f",
   "metadata": {
    "papermill": {
     "duration": 0.079102,
     "end_time": "2022-01-15T11:44:56.962102",
     "exception": false,
     "start_time": "2022-01-15T11:44:56.883000",
     "status": "completed"
    },
    "tags": []
   },
   "source": [
    "**FastingBS**"
   ]
  },
  {
   "cell_type": "code",
   "execution_count": 29,
   "id": "51cf7685",
   "metadata": {
    "execution": {
     "iopub.execute_input": "2022-01-15T11:44:57.124680Z",
     "iopub.status.busy": "2022-01-15T11:44:57.123701Z",
     "iopub.status.idle": "2022-01-15T11:44:57.130341Z",
     "shell.execute_reply": "2022-01-15T11:44:57.130877Z",
     "shell.execute_reply.started": "2022-01-15T11:43:55.135079Z"
    },
    "papermill": {
     "duration": 0.088659,
     "end_time": "2022-01-15T11:44:57.131044",
     "exception": false,
     "start_time": "2022-01-15T11:44:57.042385",
     "status": "completed"
    },
    "tags": []
   },
   "outputs": [
    {
     "data": {
      "text/plain": [
       "0    704\n",
       "1    214\n",
       "Name: FastingBS, dtype: int64"
      ]
     },
     "execution_count": 29,
     "metadata": {},
     "output_type": "execute_result"
    }
   ],
   "source": [
    "df[\"FastingBS\"].value_counts()"
   ]
  },
  {
   "cell_type": "code",
   "execution_count": 30,
   "id": "152d47b6",
   "metadata": {
    "execution": {
     "iopub.execute_input": "2022-01-15T11:44:57.298300Z",
     "iopub.status.busy": "2022-01-15T11:44:57.296870Z",
     "iopub.status.idle": "2022-01-15T11:44:57.381550Z",
     "shell.execute_reply": "2022-01-15T11:44:57.382432Z",
     "shell.execute_reply.started": "2022-01-15T11:43:55.148466Z"
    },
    "papermill": {
     "duration": 0.171989,
     "end_time": "2022-01-15T11:44:57.382714",
     "exception": false,
     "start_time": "2022-01-15T11:44:57.210725",
     "status": "completed"
    },
    "tags": []
   },
   "outputs": [
    {
     "data": {
      "image/png": "[encoded data removed]",
      "text/plain": [
       "<Figure size 720x504 with 1 Axes>"
      ]
     },
     "metadata": {},
     "output_type": "display_data"
    }
   ],
   "source": [
    "# pie plot of patients having heart disease\n",
    "fastbs1 = df[df[\"HeartDisease\"] == 1][\"FastingBS\"]\n",
    "fastbs_one1 = fastbs1[fastbs1 == 1].shape[0]\n",
    "fastbs_zero1 = fastbs1[fastbs1 == 0].shape[0]\n",
    "\n",
    "data_fastbs1 = [fastbs_one1, fastbs_zero1]\n",
    "labels_fastbs = [\"One\", \"Zero\"]\n",
    "\n",
    "plot_pie(data_fastbs1, labels_fastbs)"
   ]
  },
  {
   "cell_type": "code",
   "execution_count": 31,
   "id": "4674f36f",
   "metadata": {
    "execution": {
     "iopub.execute_input": "2022-01-15T11:44:57.616605Z",
     "iopub.status.busy": "2022-01-15T11:44:57.614994Z",
     "iopub.status.idle": "2022-01-15T11:44:57.707293Z",
     "shell.execute_reply": "2022-01-15T11:44:57.706090Z",
     "shell.execute_reply.started": "2022-01-15T11:43:55.274950Z"
    },
    "papermill": {
     "duration": 0.200633,
     "end_time": "2022-01-15T11:44:57.707570",
     "exception": false,
     "start_time": "2022-01-15T11:44:57.506937",
     "status": "completed"
    },
    "tags": []
   },
   "outputs": [
    {
     "data": {
      "image/png": "[encoded data removed]",
      "text/plain": [
       "<Figure size 720x504 with 1 Axes>"
      ]
     },
     "metadata": {},
     "output_type": "display_data"
    }
   ],
   "source": [
    "# pie plot of patients not having heart disease\n",
    "fastbs0 = df[df[\"HeartDisease\"] == 0][\"FastingBS\"]\n",
    "fastbs_one0 = fastbs0[fastbs0 == 1].shape[0]\n",
    "fastbs_zero0 = fastbs0[fastbs0 == 0].shape[0]\n",
    "\n",
    "data_fastbs0 = [fastbs_one0, fastbs_zero0]\n",
    "\n",
    "plot_pie(data_fastbs0, labels_fastbs)"
   ]
  },
  {
   "cell_type": "markdown",
   "id": "4b7edd12",
   "metadata": {
    "papermill": {
     "duration": 0.081392,
     "end_time": "2022-01-15T11:44:57.903691",
     "exception": false,
     "start_time": "2022-01-15T11:44:57.822299",
     "status": "completed"
    },
    "tags": []
   },
   "source": [
    "* FatingBS tells the fasting blood sugar, (1: if FastingBS > 120 mg/dl, 0: otherwise)\n",
    "* This feature will not be used, because of severe imbalance of classes.\n",
    "* In both cases (with heart disease and without heart disease), '0' dominates."
   ]
  },
  {
   "cell_type": "markdown",
   "id": "5a6bcc4c",
   "metadata": {
    "papermill": {
     "duration": 0.082056,
     "end_time": "2022-01-15T11:44:58.069175",
     "exception": false,
     "start_time": "2022-01-15T11:44:57.987119",
     "status": "completed"
    },
    "tags": []
   },
   "source": [
    "**RestingECG**"
   ]
  },
  {
   "cell_type": "code",
   "execution_count": 32,
   "id": "366dd9db",
   "metadata": {
    "execution": {
     "iopub.execute_input": "2022-01-15T11:44:58.234786Z",
     "iopub.status.busy": "2022-01-15T11:44:58.234120Z",
     "iopub.status.idle": "2022-01-15T11:44:58.241767Z",
     "shell.execute_reply": "2022-01-15T11:44:58.241234Z",
     "shell.execute_reply.started": "2022-01-15T11:43:55.418050Z"
    },
    "papermill": {
     "duration": 0.091276,
     "end_time": "2022-01-15T11:44:58.241904",
     "exception": false,
     "start_time": "2022-01-15T11:44:58.150628",
     "status": "completed"
    },
    "tags": []
   },
   "outputs": [
    {
     "data": {
      "text/plain": [
       "Normal    552\n",
       "LVH       188\n",
       "ST        178\n",
       "Name: RestingECG, dtype: int64"
      ]
     },
     "execution_count": 32,
     "metadata": {},
     "output_type": "execute_result"
    }
   ],
   "source": [
    "df[\"RestingECG\"].value_counts()"
   ]
  },
  {
   "cell_type": "code",
   "execution_count": 33,
   "id": "999d870f",
   "metadata": {
    "execution": {
     "iopub.execute_input": "2022-01-15T11:44:58.422052Z",
     "iopub.status.busy": "2022-01-15T11:44:58.413753Z",
     "iopub.status.idle": "2022-01-15T11:44:58.526072Z",
     "shell.execute_reply": "2022-01-15T11:44:58.526972Z",
     "shell.execute_reply.started": "2022-01-15T11:43:55.430986Z"
    },
    "papermill": {
     "duration": 0.204431,
     "end_time": "2022-01-15T11:44:58.527271",
     "exception": false,
     "start_time": "2022-01-15T11:44:58.322840",
     "status": "completed"
    },
    "tags": []
   },
   "outputs": [
    {
     "data": {
      "image/png": "[encoded data removed]",
      "text/plain": [
       "<Figure size 720x504 with 1 Axes>"
      ]
     },
     "metadata": {},
     "output_type": "display_data"
    }
   ],
   "source": [
    "# pie plot of patients having heart disease\n",
    "restecg1 = df[df[\"HeartDisease\"] == 1][\"RestingECG\"]\n",
    "norm1 = restecg1[restecg1 == \"Normal\"].shape[0]\n",
    "lvh1 = restecg1[restecg1 == \"LVH\"].shape[0]\n",
    "st1 = restecg1[restecg1 == \"ST\"].shape[0]\n",
    "\n",
    "data_restecg1 = [norm1, lvh1, st1]\n",
    "label_restecg = [\"Normal\", \"LVH\", \"ST\"]\n",
    "\n",
    "plot_pie(data_restecg1, label_restecg)"
   ]
  },
  {
   "cell_type": "code",
   "execution_count": 34,
   "id": "57081a00",
   "metadata": {
    "execution": {
     "iopub.execute_input": "2022-01-15T11:44:58.728409Z",
     "iopub.status.busy": "2022-01-15T11:44:58.727679Z",
     "iopub.status.idle": "2022-01-15T11:44:58.839793Z",
     "shell.execute_reply": "2022-01-15T11:44:58.840674Z",
     "shell.execute_reply.started": "2022-01-15T11:43:55.575153Z"
    },
    "papermill": {
     "duration": 0.200391,
     "end_time": "2022-01-15T11:44:58.840957",
     "exception": false,
     "start_time": "2022-01-15T11:44:58.640566",
     "status": "completed"
    },
    "tags": []
   },
   "outputs": [
    {
     "data": {
      "image/png": "[encoded data removed]",
      "text/plain": [
       "<Figure size 720x504 with 1 Axes>"
      ]
     },
     "metadata": {},
     "output_type": "display_data"
    }
   ],
   "source": [
    "# pie plot of patients not having heart disease\n",
    "restecg0 = df[df[\"HeartDisease\"] == 0][\"RestingECG\"]\n",
    "norm0 = restecg0[restecg0 == \"Normal\"].shape[0]\n",
    "lvh0 = restecg0[restecg0 == \"LVH\"].shape[0]\n",
    "st0 = restecg0[restecg0 == \"ST\"].shape[0]\n",
    "\n",
    "data_restecg0 = [norm0, lvh0, st0]\n",
    "\n",
    "plot_pie(data_restecg0, label_restecg)"
   ]
  },
  {
   "cell_type": "markdown",
   "id": "ede3bdb3",
   "metadata": {
    "papermill": {
     "duration": 0.083102,
     "end_time": "2022-01-15T11:44:59.040583",
     "exception": false,
     "start_time": "2022-01-15T11:44:58.957481",
     "status": "completed"
    },
    "tags": []
   },
   "source": [
    "* RestingECG tells resting electrocardiogram of the patient.\n",
    "* Normal: Normal, ST: having ST-T wave abnormality (T wave inversions and/or ST elevation or depression of > 0.05 mV), LVH: showing probable or definite left ventricular hypertrophy by Estes' criteria.\n",
    "* This feature will not be used, because patients with normal RestingECG dominates both the pie plots of patients having heart disease and patients not having heart disease.\n",
    "* And percentage of LVH and ST barely vary in both the plots."
   ]
  },
  {
   "cell_type": "markdown",
   "id": "3b612639",
   "metadata": {
    "papermill": {
     "duration": 0.093123,
     "end_time": "2022-01-15T11:44:59.217782",
     "exception": false,
     "start_time": "2022-01-15T11:44:59.124659",
     "status": "completed"
    },
    "tags": []
   },
   "source": [
    "**ExerciseAngina**"
   ]
  },
  {
   "cell_type": "code",
   "execution_count": 35,
   "id": "2600fa38",
   "metadata": {
    "execution": {
     "iopub.execute_input": "2022-01-15T11:44:59.401639Z",
     "iopub.status.busy": "2022-01-15T11:44:59.400926Z",
     "iopub.status.idle": "2022-01-15T11:44:59.409607Z",
     "shell.execute_reply": "2022-01-15T11:44:59.410226Z",
     "shell.execute_reply.started": "2022-01-15T11:43:56.014085Z"
    },
    "papermill": {
     "duration": 0.103614,
     "end_time": "2022-01-15T11:44:59.410420",
     "exception": false,
     "start_time": "2022-01-15T11:44:59.306806",
     "status": "completed"
    },
    "tags": []
   },
   "outputs": [
    {
     "data": {
      "text/plain": [
       "N    547\n",
       "Y    371\n",
       "Name: ExerciseAngina, dtype: int64"
      ]
     },
     "execution_count": 35,
     "metadata": {},
     "output_type": "execute_result"
    }
   ],
   "source": [
    "df[\"ExerciseAngina\"].value_counts()"
   ]
  },
  {
   "cell_type": "code",
   "execution_count": 36,
   "id": "17365a51",
   "metadata": {
    "execution": {
     "iopub.execute_input": "2022-01-15T11:44:59.603310Z",
     "iopub.status.busy": "2022-01-15T11:44:59.602654Z",
     "iopub.status.idle": "2022-01-15T11:44:59.711406Z",
     "shell.execute_reply": "2022-01-15T11:44:59.712279Z",
     "shell.execute_reply.started": "2022-01-15T11:43:56.028361Z"
    },
    "papermill": {
     "duration": 0.197032,
     "end_time": "2022-01-15T11:44:59.712543",
     "exception": false,
     "start_time": "2022-01-15T11:44:59.515511",
     "status": "completed"
    },
    "tags": []
   },
   "outputs": [
    {
     "data": {
      "image/png": "[encoded data removed]",
      "text/plain": [
       "<Figure size 720x504 with 1 Axes>"
      ]
     },
     "metadata": {},
     "output_type": "display_data"
    }
   ],
   "source": [
    "# pie plot of patients  having heart disease\n",
    "exeang1 = df[df[\"HeartDisease\"] == 1][\"ExerciseAngina\"]\n",
    "exeangY1 = exeang1[exeang1 == \"Y\"].shape[0]\n",
    "exeangN1 = exeang1[exeang1 == \"N\"].shape[0]\n",
    "\n",
    "data_exeang1 = [exeangY1, exeangN1]\n",
    "labels_exeang = [\"Yes\", \"No\"]\n",
    "\n",
    "plot_pie(data_exeang1, labels_exeang)"
   ]
  },
  {
   "cell_type": "code",
   "execution_count": 37,
   "id": "6b651002",
   "metadata": {
    "execution": {
     "iopub.execute_input": "2022-01-15T11:44:59.926664Z",
     "iopub.status.busy": "2022-01-15T11:44:59.925623Z",
     "iopub.status.idle": "2022-01-15T11:45:00.012630Z",
     "shell.execute_reply": "2022-01-15T11:45:00.013099Z",
     "shell.execute_reply.started": "2022-01-15T11:43:56.157166Z"
    },
    "papermill": {
     "duration": 0.182854,
     "end_time": "2022-01-15T11:45:00.013291",
     "exception": false,
     "start_time": "2022-01-15T11:44:59.830437",
     "status": "completed"
    },
    "tags": []
   },
   "outputs": [
    {
     "data": {
      "image/png": "[encoded data removed]",
      "text/plain": [
       "<Figure size 720x504 with 1 Axes>"
      ]
     },
     "metadata": {},
     "output_type": "display_data"
    }
   ],
   "source": [
    "# pie plot of patients not having heart disease\n",
    "exeang0 = df[df[\"HeartDisease\"] == 0][\"ExerciseAngina\"]\n",
    "exeangY0 = exeang0[exeang0 == \"Y\"].shape[0]\n",
    "exeangN0 = exeang0[exeang0 == \"N\"].shape[0]\n",
    "\n",
    "data_exeang0 = [exeangY0, exeangN0]\n",
    "\n",
    "plot_pie(data_exeang0, labels_exeang)"
   ]
  },
  {
   "cell_type": "markdown",
   "id": "456e1c00",
   "metadata": {
    "papermill": {
     "duration": 0.085159,
     "end_time": "2022-01-15T11:45:00.185698",
     "exception": false,
     "start_time": "2022-01-15T11:45:00.100539",
     "status": "completed"
    },
    "tags": []
   },
   "source": [
    "* ExerciseAngina tells the induced angina during exercise/physical exertion.\n",
    "* If ExerciseAngina is 'Yes', then the patient is likey to have heart disease.\n",
    "* If ExerciseAngina is 'No', then the patient is not likely to have heart disease.\n",
    "* The probability that the ExerciseAngina is Yes given that patient has heart disease is 62%.\n",
    "* The probability that the ExerciseAngina is No given that patient don't have heart disease is 86.5%."
   ]
  },
  {
   "cell_type": "markdown",
   "id": "9576470d",
   "metadata": {
    "papermill": {
     "duration": 0.084256,
     "end_time": "2022-01-15T11:45:00.354446",
     "exception": false,
     "start_time": "2022-01-15T11:45:00.270190",
     "status": "completed"
    },
    "tags": []
   },
   "source": [
    "**ST_Slope**"
   ]
  },
  {
   "cell_type": "code",
   "execution_count": 38,
   "id": "0a0c38e5",
   "metadata": {
    "execution": {
     "iopub.execute_input": "2022-01-15T11:45:00.532075Z",
     "iopub.status.busy": "2022-01-15T11:45:00.531422Z",
     "iopub.status.idle": "2022-01-15T11:45:00.533817Z",
     "shell.execute_reply": "2022-01-15T11:45:00.534387Z",
     "shell.execute_reply.started": "2022-01-15T11:43:56.302752Z"
    },
    "papermill": {
     "duration": 0.095539,
     "end_time": "2022-01-15T11:45:00.534553",
     "exception": false,
     "start_time": "2022-01-15T11:45:00.439014",
     "status": "completed"
    },
    "tags": []
   },
   "outputs": [
    {
     "data": {
      "text/plain": [
       "Flat    460\n",
       "Up      395\n",
       "Down     63\n",
       "Name: ST_Slope, dtype: int64"
      ]
     },
     "execution_count": 38,
     "metadata": {},
     "output_type": "execute_result"
    }
   ],
   "source": [
    "df[\"ST_Slope\"].value_counts()"
   ]
  },
  {
   "cell_type": "code",
   "execution_count": 39,
   "id": "97b4e92b",
   "metadata": {
    "execution": {
     "iopub.execute_input": "2022-01-15T11:45:00.708471Z",
     "iopub.status.busy": "2022-01-15T11:45:00.707798Z",
     "iopub.status.idle": "2022-01-15T11:45:00.820553Z",
     "shell.execute_reply": "2022-01-15T11:45:00.821422Z",
     "shell.execute_reply.started": "2022-01-15T11:43:56.320217Z"
    },
    "papermill": {
     "duration": 0.202327,
     "end_time": "2022-01-15T11:45:00.821701",
     "exception": false,
     "start_time": "2022-01-15T11:45:00.619374",
     "status": "completed"
    },
    "tags": []
   },
   "outputs": [
    {
     "data": {
      "image/png": "[encoded data removed]",
      "text/plain": [
       "<Figure size 720x504 with 1 Axes>"
      ]
     },
     "metadata": {},
     "output_type": "display_data"
    }
   ],
   "source": [
    "# pie plot of patients having heart disease\n",
    "stslope1 = df[df[\"HeartDisease\"] == 1][\"ST_Slope\"]\n",
    "flat1 = stslope1[stslope1 == \"Flat\"].shape[0]\n",
    "up1 = stslope1[stslope1 == \"Up\"].shape[0]\n",
    "down1 = stslope1[stslope1 == \"Down\"].shape[0]\n",
    "\n",
    "data_stslope1 = [flat1, up1, down1]\n",
    "labels_stslope = [\"Flat\", \"Up\", \"Down\"]\n",
    "\n",
    "plot_pie(data_stslope1, labels_stslope)"
   ]
  },
  {
   "cell_type": "code",
   "execution_count": 40,
   "id": "5f4eb867",
   "metadata": {
    "execution": {
     "iopub.execute_input": "2022-01-15T11:45:01.031405Z",
     "iopub.status.busy": "2022-01-15T11:45:01.030733Z",
     "iopub.status.idle": "2022-01-15T11:45:01.153312Z",
     "shell.execute_reply": "2022-01-15T11:45:01.154228Z",
     "shell.execute_reply.started": "2022-01-15T11:43:56.458875Z"
    },
    "papermill": {
     "duration": 0.214042,
     "end_time": "2022-01-15T11:45:01.154537",
     "exception": false,
     "start_time": "2022-01-15T11:45:00.940495",
     "status": "completed"
    },
    "tags": []
   },
   "outputs": [
    {
     "data": {
      "image/png": "[encoded data removed]",
      "text/plain": [
       "<Figure size 720x504 with 1 Axes>"
      ]
     },
     "metadata": {},
     "output_type": "display_data"
    }
   ],
   "source": [
    "# pie plot of patients not having heart disease\n",
    "stslope0 = df[df[\"HeartDisease\"] == 0][\"ST_Slope\"]\n",
    "flat0 = stslope0[stslope0 == \"Flat\"].shape[0]\n",
    "up0 = stslope0[stslope0 == \"Up\"].shape[0]\n",
    "down0 = stslope0[stslope0 == \"Down\"].shape[0]\n",
    "\n",
    "data_stslope0 = [flat0, up0, down0]\n",
    "\n",
    "plot_pie(data_stslope0, labels_stslope)"
   ]
  },
  {
   "cell_type": "markdown",
   "id": "2b9038eb",
   "metadata": {
    "papermill": {
     "duration": 0.086856,
     "end_time": "2022-01-15T11:45:01.361057",
     "exception": false,
     "start_time": "2022-01-15T11:45:01.274201",
     "status": "completed"
    },
    "tags": []
   },
   "source": [
    "* ST_Slope tells the slope of the peak exercise ST segment.\n",
    "* Up: upsloping, Flat: flat, Down: downsloping.\n",
    "* Patient having Flat ST_Slope is more likely to have heart disease.\n",
    "* Patients having Up ST_Slope is more likely to not have heart disease."
   ]
  },
  {
   "cell_type": "code",
   "execution_count": 41,
   "id": "569f6c32",
   "metadata": {
    "execution": {
     "iopub.execute_input": "2022-01-15T11:45:01.539603Z",
     "iopub.status.busy": "2022-01-15T11:45:01.538854Z",
     "iopub.status.idle": "2022-01-15T11:45:01.544591Z",
     "shell.execute_reply": "2022-01-15T11:45:01.545157Z",
     "shell.execute_reply.started": "2022-01-15T11:43:56.616126Z"
    },
    "papermill": {
     "duration": 0.097442,
     "end_time": "2022-01-15T11:45:01.545366",
     "exception": false,
     "start_time": "2022-01-15T11:45:01.447924",
     "status": "completed"
    },
    "tags": []
   },
   "outputs": [],
   "source": [
    "# Removing redundant features\n",
    "redundant_features = [\"Cholesterol\", \"MaxHR\", \"MaxHR_limit\", \"FastingBS\", \"RestingECG\"]\n",
    "\n",
    "df.drop(redundant_features, axis=1, inplace=True)"
   ]
  },
  {
   "cell_type": "code",
   "execution_count": 42,
   "id": "a10512b7",
   "metadata": {
    "execution": {
     "iopub.execute_input": "2022-01-15T11:45:01.723841Z",
     "iopub.status.busy": "2022-01-15T11:45:01.722843Z",
     "iopub.status.idle": "2022-01-15T11:45:01.735947Z",
     "shell.execute_reply": "2022-01-15T11:45:01.736511Z",
     "shell.execute_reply.started": "2022-01-15T11:43:56.628050Z"
    },
    "papermill": {
     "duration": 0.104165,
     "end_time": "2022-01-15T11:45:01.736694",
     "exception": false,
     "start_time": "2022-01-15T11:45:01.632529",
     "status": "completed"
    },
    "tags": []
   },
   "outputs": [
    {
     "data": {
      "text/html": [
       "<div>\n",
       "<style scoped>\n",
       "    .dataframe tbody tr th:only-of-type {\n",
       "        vertical-align: middle;\n",
       "    }\n",
       "\n",
       "    .dataframe tbody tr th {\n",
       "        vertical-align: top;\n",
       "    }\n",
       "\n",
       "    .dataframe thead th {\n",
       "        text-align: right;\n",
       "    }\n",
       "</style>\n",
       "<table border=\"1\" class=\"dataframe\">\n",
       "  <thead>\n",
       "    <tr style=\"text-align: right;\">\n",
       "      <th></th>\n",
       "      <th>Age</th>\n",
       "      <th>Sex</th>\n",
       "      <th>ChestPainType</th>\n",
       "      <th>RestingBP</th>\n",
       "      <th>ExerciseAngina</th>\n",
       "      <th>Oldpeak</th>\n",
       "      <th>ST_Slope</th>\n",
       "      <th>HeartDisease</th>\n",
       "    </tr>\n",
       "  </thead>\n",
       "  <tbody>\n",
       "    <tr>\n",
       "      <th>0</th>\n",
       "      <td>40</td>\n",
       "      <td>M</td>\n",
       "      <td>ATA</td>\n",
       "      <td>140</td>\n",
       "      <td>N</td>\n",
       "      <td>0.0</td>\n",
       "      <td>Up</td>\n",
       "      <td>0</td>\n",
       "    </tr>\n",
       "    <tr>\n",
       "      <th>1</th>\n",
       "      <td>49</td>\n",
       "      <td>F</td>\n",
       "      <td>NAP</td>\n",
       "      <td>160</td>\n",
       "      <td>N</td>\n",
       "      <td>1.0</td>\n",
       "      <td>Flat</td>\n",
       "      <td>1</td>\n",
       "    </tr>\n",
       "    <tr>\n",
       "      <th>2</th>\n",
       "      <td>37</td>\n",
       "      <td>M</td>\n",
       "      <td>ATA</td>\n",
       "      <td>130</td>\n",
       "      <td>N</td>\n",
       "      <td>0.0</td>\n",
       "      <td>Up</td>\n",
       "      <td>0</td>\n",
       "    </tr>\n",
       "    <tr>\n",
       "      <th>3</th>\n",
       "      <td>48</td>\n",
       "      <td>F</td>\n",
       "      <td>ASY</td>\n",
       "      <td>138</td>\n",
       "      <td>Y</td>\n",
       "      <td>1.5</td>\n",
       "      <td>Flat</td>\n",
       "      <td>1</td>\n",
       "    </tr>\n",
       "    <tr>\n",
       "      <th>4</th>\n",
       "      <td>54</td>\n",
       "      <td>M</td>\n",
       "      <td>NAP</td>\n",
       "      <td>150</td>\n",
       "      <td>N</td>\n",
       "      <td>0.0</td>\n",
       "      <td>Up</td>\n",
       "      <td>0</td>\n",
       "    </tr>\n",
       "  </tbody>\n",
       "</table>\n",
       "</div>"
      ],
      "text/plain": [
       "   Age Sex ChestPainType  RestingBP ExerciseAngina  Oldpeak ST_Slope  \\\n",
       "0   40   M           ATA        140              N      0.0       Up   \n",
       "1   49   F           NAP        160              N      1.0     Flat   \n",
       "2   37   M           ATA        130              N      0.0       Up   \n",
       "3   48   F           ASY        138              Y      1.5     Flat   \n",
       "4   54   M           NAP        150              N      0.0       Up   \n",
       "\n",
       "   HeartDisease  \n",
       "0             0  \n",
       "1             1  \n",
       "2             0  \n",
       "3             1  \n",
       "4             0  "
      ]
     },
     "execution_count": 42,
     "metadata": {},
     "output_type": "execute_result"
    }
   ],
   "source": [
    "df.head()"
   ]
  },
  {
   "cell_type": "markdown",
   "id": "a76e3f41",
   "metadata": {
    "papermill": {
     "duration": 0.087267,
     "end_time": "2022-01-15T11:45:01.911185",
     "exception": false,
     "start_time": "2022-01-15T11:45:01.823918",
     "status": "completed"
    },
    "tags": []
   },
   "source": [
    "# Handling Class Imbalance"
   ]
  },
  {
   "cell_type": "code",
   "execution_count": 43,
   "id": "42f4c543",
   "metadata": {
    "execution": {
     "iopub.execute_input": "2022-01-15T11:45:02.093813Z",
     "iopub.status.busy": "2022-01-15T11:45:02.091165Z",
     "iopub.status.idle": "2022-01-15T11:45:02.096344Z",
     "shell.execute_reply": "2022-01-15T11:45:02.096848Z",
     "shell.execute_reply.started": "2022-01-15T11:43:56.664915Z"
    },
    "papermill": {
     "duration": 0.097132,
     "end_time": "2022-01-15T11:45:02.097016",
     "exception": false,
     "start_time": "2022-01-15T11:45:01.999884",
     "status": "completed"
    },
    "tags": []
   },
   "outputs": [],
   "source": [
    "df_y = df.iloc[:, 7]\n",
    "df_X = df.iloc[:, [0, 1, 2, 3, 4, 5, 6]]"
   ]
  },
  {
   "cell_type": "code",
   "execution_count": 44,
   "id": "dd62a310",
   "metadata": {
    "execution": {
     "iopub.execute_input": "2022-01-15T11:45:02.275367Z",
     "iopub.status.busy": "2022-01-15T11:45:02.274710Z",
     "iopub.status.idle": "2022-01-15T11:45:02.280488Z",
     "shell.execute_reply": "2022-01-15T11:45:02.280973Z",
     "shell.execute_reply.started": "2022-01-15T11:43:56.682703Z"
    },
    "papermill": {
     "duration": 0.096426,
     "end_time": "2022-01-15T11:45:02.281143",
     "exception": false,
     "start_time": "2022-01-15T11:45:02.184717",
     "status": "completed"
    },
    "tags": []
   },
   "outputs": [
    {
     "data": {
      "text/plain": [
       "1    508\n",
       "0    410\n",
       "Name: HeartDisease, dtype: int64"
      ]
     },
     "execution_count": 44,
     "metadata": {},
     "output_type": "execute_result"
    }
   ],
   "source": [
    "df_y.value_counts()"
   ]
  },
  {
   "cell_type": "markdown",
   "id": "200b3eb6",
   "metadata": {
    "papermill": {
     "duration": 0.087701,
     "end_time": "2022-01-15T11:45:02.456659",
     "exception": false,
     "start_time": "2022-01-15T11:45:02.368958",
     "status": "completed"
    },
    "tags": []
   },
   "source": [
    "* The majority class is 'Not Heart Disease'. \n",
    "* I will use undersampling technique to resolve this issue.\n",
    "* I will reduce obeservations in majority class to 410."
   ]
  },
  {
   "cell_type": "code",
   "execution_count": 45,
   "id": "722d8d64",
   "metadata": {
    "execution": {
     "iopub.execute_input": "2022-01-15T11:45:02.636636Z",
     "iopub.status.busy": "2022-01-15T11:45:02.635983Z",
     "iopub.status.idle": "2022-01-15T11:45:02.646979Z",
     "shell.execute_reply": "2022-01-15T11:45:02.647531Z",
     "shell.execute_reply.started": "2022-01-15T11:43:56.690712Z"
    },
    "papermill": {
     "duration": 0.102124,
     "end_time": "2022-01-15T11:45:02.647706",
     "exception": false,
     "start_time": "2022-01-15T11:45:02.545582",
     "status": "completed"
    },
    "tags": []
   },
   "outputs": [],
   "source": [
    "rus = RandomUnderSampler(sampling_strategy={1: 410})\n",
    "df_X, df_y = rus.fit_resample(df_X, df_y)"
   ]
  },
  {
   "cell_type": "code",
   "execution_count": 46,
   "id": "189c76a4",
   "metadata": {
    "execution": {
     "iopub.execute_input": "2022-01-15T11:45:02.826212Z",
     "iopub.status.busy": "2022-01-15T11:45:02.825548Z",
     "iopub.status.idle": "2022-01-15T11:45:02.831483Z",
     "shell.execute_reply": "2022-01-15T11:45:02.831961Z",
     "shell.execute_reply.started": "2022-01-15T11:43:56.710155Z"
    },
    "papermill": {
     "duration": 0.097064,
     "end_time": "2022-01-15T11:45:02.832180",
     "exception": false,
     "start_time": "2022-01-15T11:45:02.735116",
     "status": "completed"
    },
    "tags": []
   },
   "outputs": [
    {
     "data": {
      "text/plain": [
       "0    410\n",
       "1    410\n",
       "Name: HeartDisease, dtype: int64"
      ]
     },
     "execution_count": 46,
     "metadata": {},
     "output_type": "execute_result"
    }
   ],
   "source": [
    "df_y.value_counts()"
   ]
  },
  {
   "cell_type": "markdown",
   "id": "69edb87c",
   "metadata": {
    "papermill": {
     "duration": 0.087829,
     "end_time": "2022-01-15T11:45:03.011624",
     "exception": false,
     "start_time": "2022-01-15T11:45:02.923795",
     "status": "completed"
    },
    "tags": []
   },
   "source": [
    "# Handling Outliers"
   ]
  },
  {
   "cell_type": "code",
   "execution_count": 47,
   "id": "ce69624c",
   "metadata": {
    "execution": {
     "iopub.execute_input": "2022-01-15T11:45:03.192164Z",
     "iopub.status.busy": "2022-01-15T11:45:03.191499Z",
     "iopub.status.idle": "2022-01-15T11:45:03.683408Z",
     "shell.execute_reply": "2022-01-15T11:45:03.682798Z",
     "shell.execute_reply.started": "2022-01-15T11:43:56.721552Z"
    },
    "papermill": {
     "duration": 0.583423,
     "end_time": "2022-01-15T11:45:03.683550",
     "exception": false,
     "start_time": "2022-01-15T11:45:03.100127",
     "status": "completed"
    },
    "tags": []
   },
   "outputs": [
    {
     "data": {
      "text/plain": [
       "Text(0.5, 1.0, 'Oldpeak vs Heart Disease(Y/N)')"
      ]
     },
     "execution_count": 47,
     "metadata": {},
     "output_type": "execute_result"
    },
    {
     "data": {
      "image/png": "[encoded data removed]",
      "text/plain": [
       "<Figure size 1152x432 with 3 Axes>"
      ]
     },
     "metadata": {
      "needs_background": "light"
     },
     "output_type": "display_data"
    }
   ],
   "source": [
    "fig = plt.figure(figsize=(16, 6))\n",
    "\n",
    "plot1 = plt.subplot2grid((1, 3), (0, 0))\n",
    "plot2 = plt.subplot2grid((1, 3), (0, 1))\n",
    "plot3 = plt.subplot2grid((1, 3), (0, 2))\n",
    "\n",
    "plot1.scatter(df_X[\"Age\"], df_y)\n",
    "plot1.set_title(\"Age vs Heart Disease(Y/N)\")\n",
    "\n",
    "plot2.scatter(df_X[\"RestingBP\"], df_y)\n",
    "plot2.set_title(\"RestingBP vs Heart Disease(Y/N)\")\n",
    "\n",
    "plot3.scatter(df_X[\"Oldpeak\"], df_y)\n",
    "plot3.set_title(\"Oldpeak vs Heart Disease(Y/N)\")"
   ]
  },
  {
   "cell_type": "markdown",
   "id": "4f1cbd69",
   "metadata": {
    "papermill": {
     "duration": 0.089533,
     "end_time": "2022-01-15T11:45:03.863275",
     "exception": false,
     "start_time": "2022-01-15T11:45:03.773742",
     "status": "completed"
    },
    "tags": []
   },
   "source": [
    "* In Age feature, there is not any outlier.\n",
    "* In RestingBP feature, there is an obeservation having near zero RestingBP, which is not possible, Hence an outlier.\n",
    "* In OldPeak feature, There is not any outlier."
   ]
  },
  {
   "cell_type": "code",
   "execution_count": 48,
   "id": "f58122d2",
   "metadata": {
    "execution": {
     "iopub.execute_input": "2022-01-15T11:45:04.049437Z",
     "iopub.status.busy": "2022-01-15T11:45:04.048718Z",
     "iopub.status.idle": "2022-01-15T11:45:04.060864Z",
     "shell.execute_reply": "2022-01-15T11:45:04.061429Z",
     "shell.execute_reply.started": "2022-01-15T11:43:57.221139Z"
    },
    "papermill": {
     "duration": 0.107029,
     "end_time": "2022-01-15T11:45:04.061619",
     "exception": false,
     "start_time": "2022-01-15T11:45:03.954590",
     "status": "completed"
    },
    "tags": []
   },
   "outputs": [
    {
     "data": {
      "text/html": [
       "<div>\n",
       "<style scoped>\n",
       "    .dataframe tbody tr th:only-of-type {\n",
       "        vertical-align: middle;\n",
       "    }\n",
       "\n",
       "    .dataframe tbody tr th {\n",
       "        vertical-align: top;\n",
       "    }\n",
       "\n",
       "    .dataframe thead th {\n",
       "        text-align: right;\n",
       "    }\n",
       "</style>\n",
       "<table border=\"1\" class=\"dataframe\">\n",
       "  <thead>\n",
       "    <tr style=\"text-align: right;\">\n",
       "      <th></th>\n",
       "      <th>Age</th>\n",
       "      <th>Sex</th>\n",
       "      <th>ChestPainType</th>\n",
       "      <th>RestingBP</th>\n",
       "      <th>ExerciseAngina</th>\n",
       "      <th>Oldpeak</th>\n",
       "      <th>ST_Slope</th>\n",
       "    </tr>\n",
       "  </thead>\n",
       "  <tbody>\n",
       "    <tr>\n",
       "      <th>676</th>\n",
       "      <td>55</td>\n",
       "      <td>M</td>\n",
       "      <td>NAP</td>\n",
       "      <td>0</td>\n",
       "      <td>N</td>\n",
       "      <td>1.5</td>\n",
       "      <td>Flat</td>\n",
       "    </tr>\n",
       "  </tbody>\n",
       "</table>\n",
       "</div>"
      ],
      "text/plain": [
       "     Age Sex ChestPainType  RestingBP ExerciseAngina  Oldpeak ST_Slope\n",
       "676   55   M           NAP          0              N      1.5     Flat"
      ]
     },
     "execution_count": 48,
     "metadata": {},
     "output_type": "execute_result"
    }
   ],
   "source": [
    "df_X[df_X[\"RestingBP\"] < 10]"
   ]
  },
  {
   "cell_type": "code",
   "execution_count": 49,
   "id": "307595c4",
   "metadata": {
    "execution": {
     "iopub.execute_input": "2022-01-15T11:45:04.248680Z",
     "iopub.status.busy": "2022-01-15T11:45:04.247940Z",
     "iopub.status.idle": "2022-01-15T11:45:04.253668Z",
     "shell.execute_reply": "2022-01-15T11:45:04.254200Z",
     "shell.execute_reply.started": "2022-01-15T11:43:57.237682Z"
    },
    "papermill": {
     "duration": 0.099464,
     "end_time": "2022-01-15T11:45:04.254403",
     "exception": false,
     "start_time": "2022-01-15T11:45:04.154939",
     "status": "completed"
    },
    "tags": []
   },
   "outputs": [],
   "source": [
    "# Removing the outlier\n",
    "df_X.drop([791], axis=0, inplace=True)\n",
    "df_y.drop([791], axis=0, inplace=True)"
   ]
  },
  {
   "cell_type": "markdown",
   "id": "9d92be37",
   "metadata": {
    "papermill": {
     "duration": 0.092195,
     "end_time": "2022-01-15T11:45:04.441760",
     "exception": false,
     "start_time": "2022-01-15T11:45:04.349565",
     "status": "completed"
    },
    "tags": []
   },
   "source": [
    "# Encoding Categorical Variables"
   ]
  },
  {
   "cell_type": "code",
   "execution_count": 50,
   "id": "14ad7275",
   "metadata": {
    "execution": {
     "iopub.execute_input": "2022-01-15T11:45:04.626041Z",
     "iopub.status.busy": "2022-01-15T11:45:04.625424Z",
     "iopub.status.idle": "2022-01-15T11:45:04.683945Z",
     "shell.execute_reply": "2022-01-15T11:45:04.683345Z",
     "shell.execute_reply.started": "2022-01-15T11:43:57.249933Z"
    },
    "papermill": {
     "duration": 0.150632,
     "end_time": "2022-01-15T11:45:04.684090",
     "exception": false,
     "start_time": "2022-01-15T11:45:04.533458",
     "status": "completed"
    },
    "tags": []
   },
   "outputs": [],
   "source": [
    "# Encoding categorical variable using target encoding\n",
    "tar_enc = TargetEncoder()\n",
    "df_X = tar_enc.fit_transform(df_X, df_y)"
   ]
  },
  {
   "cell_type": "code",
   "execution_count": 51,
   "id": "606304d2",
   "metadata": {
    "execution": {
     "iopub.execute_input": "2022-01-15T11:45:04.868207Z",
     "iopub.status.busy": "2022-01-15T11:45:04.867559Z",
     "iopub.status.idle": "2022-01-15T11:45:04.879592Z",
     "shell.execute_reply": "2022-01-15T11:45:04.880199Z",
     "shell.execute_reply.started": "2022-01-15T11:43:57.312803Z"
    },
    "papermill": {
     "duration": 0.10558,
     "end_time": "2022-01-15T11:45:04.880397",
     "exception": false,
     "start_time": "2022-01-15T11:45:04.774817",
     "status": "completed"
    },
    "tags": []
   },
   "outputs": [
    {
     "data": {
      "text/html": [
       "<div>\n",
       "<style scoped>\n",
       "    .dataframe tbody tr th:only-of-type {\n",
       "        vertical-align: middle;\n",
       "    }\n",
       "\n",
       "    .dataframe tbody tr th {\n",
       "        vertical-align: top;\n",
       "    }\n",
       "\n",
       "    .dataframe thead th {\n",
       "        text-align: right;\n",
       "    }\n",
       "</style>\n",
       "<table border=\"1\" class=\"dataframe\">\n",
       "  <thead>\n",
       "    <tr style=\"text-align: right;\">\n",
       "      <th></th>\n",
       "      <th>Age</th>\n",
       "      <th>Sex</th>\n",
       "      <th>ChestPainType</th>\n",
       "      <th>RestingBP</th>\n",
       "      <th>ExerciseAngina</th>\n",
       "      <th>Oldpeak</th>\n",
       "      <th>ST_Slope</th>\n",
       "    </tr>\n",
       "  </thead>\n",
       "  <tbody>\n",
       "    <tr>\n",
       "      <th>0</th>\n",
       "      <td>40</td>\n",
       "      <td>0.577532</td>\n",
       "      <td>0.102410</td>\n",
       "      <td>140</td>\n",
       "      <td>0.295635</td>\n",
       "      <td>0.0</td>\n",
       "      <td>0.163588</td>\n",
       "    </tr>\n",
       "    <tr>\n",
       "      <th>1</th>\n",
       "      <td>37</td>\n",
       "      <td>0.577532</td>\n",
       "      <td>0.102410</td>\n",
       "      <td>130</td>\n",
       "      <td>0.295635</td>\n",
       "      <td>0.0</td>\n",
       "      <td>0.163588</td>\n",
       "    </tr>\n",
       "    <tr>\n",
       "      <th>2</th>\n",
       "      <td>54</td>\n",
       "      <td>0.577532</td>\n",
       "      <td>0.317708</td>\n",
       "      <td>150</td>\n",
       "      <td>0.295635</td>\n",
       "      <td>0.0</td>\n",
       "      <td>0.163588</td>\n",
       "    </tr>\n",
       "    <tr>\n",
       "      <th>3</th>\n",
       "      <td>39</td>\n",
       "      <td>0.577532</td>\n",
       "      <td>0.317708</td>\n",
       "      <td>120</td>\n",
       "      <td>0.295635</td>\n",
       "      <td>0.0</td>\n",
       "      <td>0.163588</td>\n",
       "    </tr>\n",
       "    <tr>\n",
       "      <th>4</th>\n",
       "      <td>45</td>\n",
       "      <td>0.235294</td>\n",
       "      <td>0.102410</td>\n",
       "      <td>130</td>\n",
       "      <td>0.295635</td>\n",
       "      <td>0.0</td>\n",
       "      <td>0.163588</td>\n",
       "    </tr>\n",
       "  </tbody>\n",
       "</table>\n",
       "</div>"
      ],
      "text/plain": [
       "   Age       Sex  ChestPainType  RestingBP  ExerciseAngina  Oldpeak  ST_Slope\n",
       "0   40  0.577532       0.102410        140        0.295635      0.0  0.163588\n",
       "1   37  0.577532       0.102410        130        0.295635      0.0  0.163588\n",
       "2   54  0.577532       0.317708        150        0.295635      0.0  0.163588\n",
       "3   39  0.577532       0.317708        120        0.295635      0.0  0.163588\n",
       "4   45  0.235294       0.102410        130        0.295635      0.0  0.163588"
      ]
     },
     "execution_count": 51,
     "metadata": {},
     "output_type": "execute_result"
    }
   ],
   "source": [
    "df_X.head()"
   ]
  },
  {
   "cell_type": "markdown",
   "id": "cb37048a",
   "metadata": {
    "papermill": {
     "duration": 0.091512,
     "end_time": "2022-01-15T11:45:05.062984",
     "exception": false,
     "start_time": "2022-01-15T11:45:04.971472",
     "status": "completed"
    },
    "tags": []
   },
   "source": [
    "# Modeling"
   ]
  },
  {
   "cell_type": "code",
   "execution_count": 52,
   "id": "5b834398",
   "metadata": {
    "execution": {
     "iopub.execute_input": "2022-01-15T11:45:05.247287Z",
     "iopub.status.busy": "2022-01-15T11:45:05.246621Z",
     "iopub.status.idle": "2022-01-15T11:45:05.252048Z",
     "shell.execute_reply": "2022-01-15T11:45:05.252639Z",
     "shell.execute_reply.started": "2022-01-15T11:43:57.327881Z"
    },
    "papermill": {
     "duration": 0.099168,
     "end_time": "2022-01-15T11:45:05.252816",
     "exception": false,
     "start_time": "2022-01-15T11:45:05.153648",
     "status": "completed"
    },
    "tags": []
   },
   "outputs": [],
   "source": [
    "X_train, X_test, y_train, y_test = train_test_split(df_X, df_y, train_size=0.7, test_size=0.3)"
   ]
  },
  {
   "cell_type": "code",
   "execution_count": 53,
   "id": "e981e2a5",
   "metadata": {
    "execution": {
     "iopub.execute_input": "2022-01-15T11:45:05.436998Z",
     "iopub.status.busy": "2022-01-15T11:45:05.436291Z",
     "iopub.status.idle": "2022-01-15T11:45:09.060966Z",
     "shell.execute_reply": "2022-01-15T11:45:09.060340Z",
     "shell.execute_reply.started": "2022-01-15T11:43:57.339817Z"
    },
    "papermill": {
     "duration": 3.718476,
     "end_time": "2022-01-15T11:45:09.061131",
     "exception": false,
     "start_time": "2022-01-15T11:45:05.342655",
     "status": "completed"
    },
    "tags": []
   },
   "outputs": [],
   "source": [
    "lambda_values = list(range(1, 100))\n",
    "\n",
    "logloss_cv = []\n",
    "logloss_train = []\n",
    "\n",
    "kf = KFold(n_splits=5)\n",
    "\n",
    "for lam in lambda_values:\n",
    "    total_logloss_tr = []\n",
    "    total_logloss_cv = []\n",
    "    for train_index, cv_index in kf.split(X_train):\n",
    "        trset_X, cvset_X = X_train.iloc[train_index, :], X_train.iloc[cv_index, :]\n",
    "        trset_y, cvset_y = y_train.iloc[train_index], y_train.iloc[cv_index]\n",
    "        \n",
    "        model = LogisticRegression(C= (1/lam), penalty=\"l2\", solver=\"liblinear\")\n",
    "        model.fit(trset_X, trset_y)\n",
    "        \n",
    "        trpred_y = model.predict(trset_X)\n",
    "        cvpred_y = model.predict(cvset_X)\n",
    "        \n",
    "        logloss_trset = metrics.log_loss(trset_y, trpred_y)\n",
    "        logloss_cvset = metrics.log_loss(cvset_y, cvpred_y)\n",
    "        \n",
    "        total_logloss_tr.append(logloss_trset)\n",
    "        total_logloss_cv.append(logloss_cvset)\n",
    "        \n",
    "    avg_logloss_tr = sum(total_logloss_tr) / (len(total_logloss_tr))    \n",
    "    avg_logloss_cv = sum(total_logloss_cv) / (len(total_logloss_cv))    \n",
    "    \n",
    "    logloss_train.append(avg_logloss_tr)\n",
    "    logloss_cv.append(avg_logloss_cv)"
   ]
  },
  {
   "cell_type": "code",
   "execution_count": 54,
   "id": "64ebe35c",
   "metadata": {
    "execution": {
     "iopub.execute_input": "2022-01-15T11:45:09.246488Z",
     "iopub.status.busy": "2022-01-15T11:45:09.245489Z",
     "iopub.status.idle": "2022-01-15T11:45:09.250607Z",
     "shell.execute_reply": "2022-01-15T11:45:09.251094Z",
     "shell.execute_reply.started": "2022-01-15T11:44:01.089683Z"
    },
    "papermill": {
     "duration": 0.098906,
     "end_time": "2022-01-15T11:45:09.251260",
     "exception": false,
     "start_time": "2022-01-15T11:45:09.152354",
     "status": "completed"
    },
    "tags": []
   },
   "outputs": [
    {
     "name": "stdout",
     "output_type": "stream",
     "text": [
      "Optimal Value of hyperparameter Lambda(1/C) is: 1\n"
     ]
    }
   ],
   "source": [
    "optimal_lam = logloss_cv.index(min(logloss_cv)) + 1\n",
    "print(\"Optimal Value of hyperparameter Lambda(1/C) is: \" + str(optimal_lam))"
   ]
  },
  {
   "cell_type": "code",
   "execution_count": 55,
   "id": "6de76cc0",
   "metadata": {
    "execution": {
     "iopub.execute_input": "2022-01-15T11:45:09.461033Z",
     "iopub.status.busy": "2022-01-15T11:45:09.459836Z",
     "iopub.status.idle": "2022-01-15T11:45:09.624376Z",
     "shell.execute_reply": "2022-01-15T11:45:09.623691Z",
     "shell.execute_reply.started": "2022-01-15T11:44:01.096504Z"
    },
    "papermill": {
     "duration": 0.282602,
     "end_time": "2022-01-15T11:45:09.624529",
     "exception": false,
     "start_time": "2022-01-15T11:45:09.341927",
     "status": "completed"
    },
    "tags": []
   },
   "outputs": [
    {
     "data": {
      "image/png": "[encoded data removed]",
      "text/plain": [
       "<Figure size 720x504 with 1 Axes>"
      ]
     },
     "metadata": {
      "needs_background": "light"
     },
     "output_type": "display_data"
    }
   ],
   "source": [
    "fig = plt.figure(figsize=(10, 7))\n",
    "plt.plot(lambda_values, logloss_cv, label=\"CV-set\")\n",
    "plt.plot(lambda_values, logloss_train, label= \"Train-set\")\n",
    "plt.xlabel(\"Hyperparameter Lambda\")\n",
    "plt.ylabel(\"Log-Loss\")\n",
    "plt.legend()\n",
    "plt.show()"
   ]
  },
  {
   "cell_type": "code",
   "execution_count": 56,
   "id": "1e8eb3e7",
   "metadata": {
    "execution": {
     "iopub.execute_input": "2022-01-15T11:45:09.814529Z",
     "iopub.status.busy": "2022-01-15T11:45:09.813801Z",
     "iopub.status.idle": "2022-01-15T11:45:09.824633Z",
     "shell.execute_reply": "2022-01-15T11:45:09.824063Z",
     "shell.execute_reply.started": "2022-01-15T11:44:01.343099Z"
    },
    "papermill": {
     "duration": 0.107285,
     "end_time": "2022-01-15T11:45:09.824790",
     "exception": false,
     "start_time": "2022-01-15T11:45:09.717505",
     "status": "completed"
    },
    "tags": []
   },
   "outputs": [],
   "source": [
    "model = LogisticRegression(C=optimal_lam, solver=\"liblinear\")\n",
    "model.fit(X_train, y_train)\n",
    "\n",
    "y_trpred = model.predict(X_train)"
   ]
  },
  {
   "cell_type": "code",
   "execution_count": 57,
   "id": "7fbf5689",
   "metadata": {
    "execution": {
     "iopub.execute_input": "2022-01-15T11:45:10.016870Z",
     "iopub.status.busy": "2022-01-15T11:45:10.015973Z",
     "iopub.status.idle": "2022-01-15T11:45:10.216415Z",
     "shell.execute_reply": "2022-01-15T11:45:10.215852Z",
     "shell.execute_reply.started": "2022-01-15T11:44:01.355671Z"
    },
    "papermill": {
     "duration": 0.299861,
     "end_time": "2022-01-15T11:45:10.216573",
     "exception": false,
     "start_time": "2022-01-15T11:45:09.916712",
     "status": "completed"
    },
    "tags": []
   },
   "outputs": [
    {
     "data": {
      "image/png": "[encoded data removed]",
      "text/plain": [
       "<Figure size 720x504 with 2 Axes>"
      ]
     },
     "metadata": {
      "needs_background": "light"
     },
     "output_type": "display_data"
    }
   ],
   "source": [
    "cf_matrix = metrics.confusion_matrix(y_train, y_trpred)\n",
    "fig = plt.figure(figsize = (10, 7))\n",
    "ax = sns.heatmap(cf_matrix, annot = True)\n",
    "ax.set_title('Confusion Matrix on Train Set');\n",
    "ax.set_xlabel('Predicted Values')\n",
    "ax.set_ylabel('Actual Values ');\n",
    "ax.xaxis.set_ticklabels(['False','True'])\n",
    "ax.yaxis.set_ticklabels(['False','True'])\n",
    "plt.show()"
   ]
  },
  {
   "cell_type": "code",
   "execution_count": 58,
   "id": "894c831b",
   "metadata": {
    "execution": {
     "iopub.execute_input": "2022-01-15T11:45:10.412264Z",
     "iopub.status.busy": "2022-01-15T11:45:10.407896Z",
     "iopub.status.idle": "2022-01-15T11:45:10.600208Z",
     "shell.execute_reply": "2022-01-15T11:45:10.600735Z",
     "shell.execute_reply.started": "2022-01-15T11:44:01.609981Z"
    },
    "papermill": {
     "duration": 0.290933,
     "end_time": "2022-01-15T11:45:10.600937",
     "exception": false,
     "start_time": "2022-01-15T11:45:10.310004",
     "status": "completed"
    },
    "tags": []
   },
   "outputs": [
    {
     "data": {
      "image/png": "[encoded data removed]",
      "text/plain": [
       "<Figure size 720x504 with 2 Axes>"
      ]
     },
     "metadata": {
      "needs_background": "light"
     },
     "output_type": "display_data"
    }
   ],
   "source": [
    "y_testpred = model.predict(X_test)\n",
    "\n",
    "cf_matrix = metrics.confusion_matrix(y_test, y_testpred)\n",
    "fig = plt.figure(figsize = (10, 7))\n",
    "ax = sns.heatmap(cf_matrix, annot = True)\n",
    "ax.set_title('Confusion Matrix on Test Set');\n",
    "ax.set_xlabel('Predicted Values')\n",
    "ax.set_ylabel('Actual Values ');\n",
    "ax.xaxis.set_ticklabels(['False','True'])\n",
    "ax.yaxis.set_ticklabels(['False','True'])\n",
    "plt.show()"
   ]
  },
  {
   "cell_type": "code",
   "execution_count": 59,
   "id": "5c58d261",
   "metadata": {
    "execution": {
     "iopub.execute_input": "2022-01-15T11:45:10.793510Z",
     "iopub.status.busy": "2022-01-15T11:45:10.792817Z",
     "iopub.status.idle": "2022-01-15T11:45:10.804035Z",
     "shell.execute_reply": "2022-01-15T11:45:10.803342Z",
     "shell.execute_reply.started": "2022-01-15T11:44:01.872459Z"
    },
    "papermill": {
     "duration": 0.107947,
     "end_time": "2022-01-15T11:45:10.804178",
     "exception": false,
     "start_time": "2022-01-15T11:45:10.696231",
     "status": "completed"
    },
    "tags": []
   },
   "outputs": [
    {
     "name": "stdout",
     "output_type": "stream",
     "text": [
      "              precision    recall  f1-score   support\n",
      "\n",
      "           0       0.89      0.81      0.85       126\n",
      "           1       0.82      0.90      0.86       120\n",
      "\n",
      "    accuracy                           0.85       246\n",
      "   macro avg       0.86      0.85      0.85       246\n",
      "weighted avg       0.86      0.85      0.85       246\n",
      "\n"
     ]
    }
   ],
   "source": [
    "print(metrics.classification_report(y_test, y_testpred))"
   ]
  }
 ],
 "metadata": {
  "kernelspec": {
   "display_name": "Python 3",
   "language": "python",
   "name": "python3"
  },
  "language_info": {
   "codemirror_mode": {
    "name": "ipython",
    "version": 3
   },
   "file_extension": ".py",
   "mimetype": "text/x-python",
   "name": "python",
   "nbconvert_exporter": "python",
   "pygments_lexer": "ipython3",
   "version": "3.7.12"
  },
  "papermill": {
   "default_parameters": {},
   "duration": 36.032474,
   "end_time": "2022-01-15T11:45:11.709108",
   "environment_variables": {},
   "exception": null,
   "input_path": "__notebook__.ipynb",
   "output_path": "__notebook__.ipynb",
   "parameters": {},
   "start_time": "2022-01-15T11:44:35.676634",
   "version": "2.3.3"
  }
 },
 "nbformat": 4,
 "nbformat_minor": 5
}
